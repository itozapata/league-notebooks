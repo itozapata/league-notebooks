{
 "cells": [
  {
   "cell_type": "code",
   "execution_count": 77,
   "metadata": {},
   "outputs": [],
   "source": [
    "import pyarrow as pa\n",
    "import dask.dataframe as dd\n",
    "import pandas as pd\n",
    "\n",
    "from pandas.io.json import json_normalize\n",
    "import datetime"
   ]
  },
  {
   "cell_type": "code",
   "execution_count": 20,
   "metadata": {},
   "outputs": [],
   "source": [
    "def lateral_flatten(df):\n",
    "    rows = []\n",
    "    for i, row in df.iterrows():\n",
    "        particpiant_identities = row.at['participantIdentities']\n",
    "        lateral_pi = json_normalize(particpiant_identities)\n",
    "        participants = row.at['participants']\n",
    "        lateral_p = json_normalize(participants, meta_prefix='participant')\n",
    "        teams = row.at['teams']\n",
    "        lateral_teams = json_normalize(teams, meta_prefix ='team')\n",
    "        \n",
    "        merge1 = pd.merge(lateral_pi, lateral_p, on='participantId')\n",
    "        merge2 = pd.merge(merge1, lateral_teams, on='teamId')\n",
    "        \n",
    "        for j, participant_row in merge2.iterrows():\n",
    "            new = row.copy()\n",
    "            \n",
    "            new_row = pd.concat([new, participant_row])\n",
    "            rows.append(new_row)\n",
    "\n",
    "    df2 = pd.DataFrame(rows)\n",
    "    return df2.drop(['participantIdentities', 'participants', 'teams'], axis=1)"
   ]
  },
  {
   "cell_type": "code",
   "execution_count": 86,
   "metadata": {},
   "outputs": [],
   "source": [
    "def extractShortVersion(x):\n",
    "    split_array = x.split('.')\n",
    "    major = split_array[0]\n",
    "    minor = split_array[1]\n",
    "    if len(minor) < 2:\n",
    "        minor = \"0{num}\".format(num=minor)\n",
    "    return float(\"{major}.{minor}\".format(major=major, minor=minor))"
   ]
  },
  {
   "cell_type": "code",
   "execution_count": 12,
   "metadata": {},
   "outputs": [],
   "source": [
    "ddf = dd.read_json('s3://riot-raw-games-ingestion-raw-games-us-east-1-166391258436/games-raw/2018/10/*/*/*',\n",
    "                   lines=True,\n",
    "                   convert_axes=True)"
   ]
  },
  {
   "cell_type": "code",
   "execution_count": 23,
   "metadata": {},
   "outputs": [],
   "source": [
    "df_raw = ddf.compute()"
   ]
  },
  {
   "cell_type": "code",
   "execution_count": 18,
   "metadata": {},
   "outputs": [],
   "source": [
    "df_raw.gameCreation = pd.to_datetime(df_raw['gameCreation'], origin='unix', unit='ms')"
   ]
  },
  {
   "cell_type": "code",
   "execution_count": 87,
   "metadata": {},
   "outputs": [],
   "source": [
    "df_raw['date'] = df_raw.gameCreation.apply(lambda x: x.date())\n",
    "df_raw['shortVersion'] = df_raw.gameVersion.apply(extractShortVersion)"
   ]
  },
  {
   "cell_type": "code",
   "execution_count": 81,
   "metadata": {},
   "outputs": [],
   "source": [
    "df_raw = df_raw[df_raw['date'] >= datetime.date(year=2018, month=10, day=1)]"
   ]
  },
  {
   "cell_type": "code",
   "execution_count": 89,
   "metadata": {},
   "outputs": [
    {
     "data": {
      "text/plain": [
       "array([8.2 , 8.19, 8.21])"
      ]
     },
     "execution_count": 89,
     "metadata": {},
     "output_type": "execute_result"
    }
   ],
   "source": [
    "df_raw.shortVersion.unique()"
   ]
  },
  {
   "cell_type": "code",
   "execution_count": 91,
   "metadata": {},
   "outputs": [],
   "source": [
    "df = lateral_flatten(\n",
    "    df_raw[(df_raw['queueId'] == 400) | (df_raw['queueId'] == 420) | (df_raw['queueId'] == 440)]\n",
    ").reset_index(drop=True).drop(['bans'], axis=1)"
   ]
  },
  {
   "cell_type": "code",
   "execution_count": 92,
   "metadata": {},
   "outputs": [
    {
     "name": "stdout",
     "output_type": "stream",
     "text": [
      "2018-10-01 00:59:15.387000\n"
     ]
    },
    {
     "data": {
      "text/plain": [
       "Timestamp('2018-10-25 03:21:53.602000')"
      ]
     },
     "execution_count": 92,
     "metadata": {},
     "output_type": "execute_result"
    }
   ],
   "source": [
    "print(df.gameCreation.min())\n",
    "df.gameCreation.max()"
   ]
  },
  {
   "cell_type": "code",
   "execution_count": 95,
   "metadata": {},
   "outputs": [
    {
     "data": {
      "text/plain": [
       "<matplotlib.axes._subplots.AxesSubplot at 0x1e31b478048>"
      ]
     },
     "execution_count": 95,
     "metadata": {},
     "output_type": "execute_result"
    },
    {
     "data": {
      "image/png": "[encoded data removed]",
      "text/plain": [
       "<Figure size 432x288 with 1 Axes>"
      ]
     },
     "metadata": {
      "needs_background": "light"
     },
     "output_type": "display_data"
    }
   ],
   "source": [
    "df.groupby(['date'])[['gameId']].count().plot()"
   ]
  },
  {
   "cell_type": "code",
   "execution_count": 96,
   "metadata": {},
   "outputs": [
    {
     "data": {
      "text/plain": [
       "<matplotlib.axes._subplots.AxesSubplot at 0x1e3418aec88>"
      ]
     },
     "execution_count": 96,
     "metadata": {},
     "output_type": "execute_result"
    },
    {
     "data": {
      "image/png": "[encoded data removed]",
      "text/plain": [
       "<Figure size 432x288 with 1 Axes>"
      ]
     },
     "metadata": {
      "needs_background": "light"
     },
     "output_type": "display_data"
    }
   ],
   "source": [
    "df.groupby('gameId', as_index=False).count()[['gameId', 'gameCreation']].plot(kind='scatter', x='gameId', y='gameCreation')"
   ]
  },
  {
   "cell_type": "code",
   "execution_count": 97,
   "metadata": {},
   "outputs": [],
   "source": [
    "df['countnumber'] = df.sort_values([\n",
    "    'gameId', \n",
    "    'player.accountId'\n",
    "]).groupby([\n",
    "    'gameId',\n",
    "    'player.accountId'\n",
    "]).cumcount() + 1"
   ]
  },
  {
   "cell_type": "code",
   "execution_count": 98,
   "metadata": {},
   "outputs": [],
   "source": [
    "df2 = df.drop(df[df.countnumber > 1].index)"
   ]
  },
  {
   "cell_type": "code",
   "execution_count": 101,
   "metadata": {},
   "outputs": [
    {
     "data": {
      "text/plain": [
       "<matplotlib.axes._subplots.AxesSubplot at 0x1e314d2d780>"
      ]
     },
     "execution_count": 101,
     "metadata": {},
     "output_type": "execute_result"
    },
    {
     "data": {
      "image/png": "[encoded data removed]",
      "text/plain": [
       "<Figure size 432x288 with 1 Axes>"
      ]
     },
     "metadata": {
      "needs_background": "light"
     },
     "output_type": "display_data"
    }
   ],
   "source": [
    "df2.groupby('gameId', as_index=False).count()[['gameId', 'gameCreation']].plot(kind='scatter', x='gameId', y='gameCreation')"
   ]
  },
  {
   "cell_type": "code",
   "execution_count": 102,
   "metadata": {},
   "outputs": [],
   "source": [
    "df2.to_parquet('../recent-export.parquet', engine='pyarrow')"
   ]
  }
 ],
 "metadata": {
  "kernelspec": {
   "display_name": "Python 3",
   "language": "python",
   "name": "python3"
  },
  "language_info": {
   "codemirror_mode": {
    "name": "ipython",
    "version": 3
   },
   "file_extension": ".py",
   "mimetype": "text/x-python",
   "name": "python",
   "nbconvert_exporter": "python",
   "pygments_lexer": "ipython3",
   "version": "3.7.0"
  }
 },
 "nbformat": 4,
 "nbformat_minor": 2
}
