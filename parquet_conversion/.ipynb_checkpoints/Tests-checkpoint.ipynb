{
 "cells": [
  {
   "cell_type": "code",
   "execution_count": 30,
   "metadata": {},
   "outputs": [],
   "source": [
    "import pandas as pd\n",
    "from pandas.io.json import json_normalize\n",
    "from pandasql import sqldf\n",
    "dfsql = lambda q: sqldf(q, globals())"
   ]
  },
  {
   "cell_type": "code",
   "execution_count": 35,
   "metadata": {},
   "outputs": [],
   "source": [
    "def flattencolumns(df1, cols):\n",
    "    df = pd.concat([pd.DataFrame(df1[x].values.tolist()).add_prefix(x) for x in cols], axis=1)\n",
    "    return pd.concat([df, df1.drop(cols, axis=1)], axis=1)"
   ]
  },
  {
   "cell_type": "code",
   "execution_count": 55,
   "metadata": {},
   "outputs": [],
   "source": [
    "df = pd.read_json(\n",
    "    './s3_sync/2017/07/10/06/riot-raw-games-ingestion-games-raw-3-2017-07-10-06-48-49-b235f850-0637-42d6-a9ad-1c89e755a6a7',\n",
    "    lines=True,\n",
    "    convert_axes=True,\n",
    "    dtype={\n",
    "        'gameCreation':'int64',\n",
    "        'gameDuration':'int64',\n",
    "        'gameId':'int64',\n",
    "        'gameMode':'str',\n",
    "        'gameType':'str',\n",
    "        'gameVersion':'str',\n",
    "        'mapId':'int64',\n",
    "        'participantIdentities':'array',\n",
    "        'participants':'str',\n",
    "        'platformId':'str',\n",
    "        'queueId':'int64',\n",
    "        'seasonId':'int64',\n",
    "        'teams':'str'\n",
    "    }\n",
    ")"
   ]
  },
  {
   "cell_type": "code",
   "execution_count": 57,
   "metadata": {},
   "outputs": [],
   "source": [
    "df = pd.read_json(\n",
    "    './s3_sync/2017/07/10/06/riot-raw-games-ingestion-games-raw-3-2017-07-10-06-48-49-b235f850-0637-42d6-a9ad-1c89e755a6a7',\n",
    "    lines=True,\n",
    "    convert_axes=True\n",
    ")"
   ]
  },
  {
   "cell_type": "code",
   "execution_count": 53,
   "metadata": {},
   "outputs": [
    {
     "data": {
      "text/plain": [
       "gameCreation              int64\n",
       "gameDuration              int64\n",
       "gameId                    int64\n",
       "gameMode                 object\n",
       "gameType                 object\n",
       "gameVersion              object\n",
       "mapId                     int64\n",
       "participantIdentities    object\n",
       "participants             object\n",
       "platformId               object\n",
       "queueId                   int64\n",
       "seasonId                  int64\n",
       "teams                    object\n",
       "dtype: object"
      ]
     },
     "execution_count": 53,
     "metadata": {},
     "output_type": "execute_result"
    }
   ],
   "source": [
    "df.dtypes"
   ]
  },
  {
   "cell_type": "code",
   "execution_count": 48,
   "metadata": {},
   "outputs": [
    {
     "data": {
      "text/html": [
       "<div>\n",
       "<style scoped>\n",
       "    .dataframe tbody tr th:only-of-type {\n",
       "        vertical-align: middle;\n",
       "    }\n",
       "\n",
       "    .dataframe tbody tr th {\n",
       "        vertical-align: top;\n",
       "    }\n",
       "\n",
       "    .dataframe thead th {\n",
       "        text-align: right;\n",
       "    }\n",
       "</style>\n",
       "<table border=\"1\" class=\"dataframe\">\n",
       "  <thead>\n",
       "    <tr style=\"text-align: right;\">\n",
       "      <th></th>\n",
       "      <th>participantId</th>\n",
       "      <th>player.accountId</th>\n",
       "      <th>player.currentAccountID</th>\n",
       "      <th>player.currentAccountId</th>\n",
       "      <th>player.currentPlatformId</th>\n",
       "      <th>player.matchHistoryUri</th>\n",
       "      <th>player.platformId</th>\n",
       "      <th>player.profileIcon</th>\n",
       "      <th>player.summonerId</th>\n",
       "      <th>player.summonerName</th>\n",
       "    </tr>\n",
       "  </thead>\n",
       "  <tbody>\n",
       "    <tr>\n",
       "      <th>0</th>\n",
       "      <td>2</td>\n",
       "      <td>231710330.0</td>\n",
       "      <td>231710330.0</td>\n",
       "      <td>NaN</td>\n",
       "      <td>NA1</td>\n",
       "      <td>/v1/stats/player_history/NA1/231710330</td>\n",
       "      <td>NA1</td>\n",
       "      <td>1643.0</td>\n",
       "      <td>73012371.0</td>\n",
       "      <td>jokokoloko</td>\n",
       "    </tr>\n",
       "    <tr>\n",
       "      <th>1</th>\n",
       "      <td>2</td>\n",
       "      <td>NaN</td>\n",
       "      <td>NaN</td>\n",
       "      <td>NaN</td>\n",
       "      <td>NaN</td>\n",
       "      <td>NaN</td>\n",
       "      <td>NaN</td>\n",
       "      <td>NaN</td>\n",
       "      <td>NaN</td>\n",
       "      <td>NaN</td>\n",
       "    </tr>\n",
       "    <tr>\n",
       "      <th>2</th>\n",
       "      <td>2</td>\n",
       "      <td>218766345.0</td>\n",
       "      <td>218766345.0</td>\n",
       "      <td>NaN</td>\n",
       "      <td>NA1</td>\n",
       "      <td>/v1/stats/player_history/NA1/218766345</td>\n",
       "      <td>NA1</td>\n",
       "      <td>1670.0</td>\n",
       "      <td>61079726.0</td>\n",
       "      <td>Skeevo</td>\n",
       "    </tr>\n",
       "    <tr>\n",
       "      <th>3</th>\n",
       "      <td>2</td>\n",
       "      <td>229428250.0</td>\n",
       "      <td>NaN</td>\n",
       "      <td>229428250.0</td>\n",
       "      <td>NA1</td>\n",
       "      <td>/v1/stats/player_history/NA1/229428250</td>\n",
       "      <td>NA1</td>\n",
       "      <td>1114.0</td>\n",
       "      <td>68830466.0</td>\n",
       "      <td>raccxxn</td>\n",
       "    </tr>\n",
       "    <tr>\n",
       "      <th>4</th>\n",
       "      <td>2</td>\n",
       "      <td>NaN</td>\n",
       "      <td>NaN</td>\n",
       "      <td>NaN</td>\n",
       "      <td>NaN</td>\n",
       "      <td>NaN</td>\n",
       "      <td>NaN</td>\n",
       "      <td>NaN</td>\n",
       "      <td>NaN</td>\n",
       "      <td>NaN</td>\n",
       "    </tr>\n",
       "    <tr>\n",
       "      <th>5</th>\n",
       "      <td>2</td>\n",
       "      <td>NaN</td>\n",
       "      <td>NaN</td>\n",
       "      <td>NaN</td>\n",
       "      <td>NaN</td>\n",
       "      <td>NaN</td>\n",
       "      <td>NaN</td>\n",
       "      <td>NaN</td>\n",
       "      <td>NaN</td>\n",
       "      <td>NaN</td>\n",
       "    </tr>\n",
       "    <tr>\n",
       "      <th>6</th>\n",
       "      <td>2</td>\n",
       "      <td>37013139.0</td>\n",
       "      <td>37013139.0</td>\n",
       "      <td>NaN</td>\n",
       "      <td>NA1</td>\n",
       "      <td>/v1/stats/player_history/NA1/37013139</td>\n",
       "      <td>NA1</td>\n",
       "      <td>1663.0</td>\n",
       "      <td>23037187.0</td>\n",
       "      <td>Baaby Wipes</td>\n",
       "    </tr>\n",
       "    <tr>\n",
       "      <th>7</th>\n",
       "      <td>2</td>\n",
       "      <td>NaN</td>\n",
       "      <td>NaN</td>\n",
       "      <td>NaN</td>\n",
       "      <td>NaN</td>\n",
       "      <td>NaN</td>\n",
       "      <td>NaN</td>\n",
       "      <td>NaN</td>\n",
       "      <td>NaN</td>\n",
       "      <td>NaN</td>\n",
       "    </tr>\n",
       "    <tr>\n",
       "      <th>8</th>\n",
       "      <td>2</td>\n",
       "      <td>NaN</td>\n",
       "      <td>NaN</td>\n",
       "      <td>NaN</td>\n",
       "      <td>NaN</td>\n",
       "      <td>NaN</td>\n",
       "      <td>NaN</td>\n",
       "      <td>NaN</td>\n",
       "      <td>NaN</td>\n",
       "      <td>NaN</td>\n",
       "    </tr>\n",
       "    <tr>\n",
       "      <th>9</th>\n",
       "      <td>2</td>\n",
       "      <td>231710330.0</td>\n",
       "      <td>231710330.0</td>\n",
       "      <td>NaN</td>\n",
       "      <td>NA1</td>\n",
       "      <td>/v1/stats/player_history/NA1/231710330</td>\n",
       "      <td>NA1</td>\n",
       "      <td>1643.0</td>\n",
       "      <td>73012371.0</td>\n",
       "      <td>jokokoloko</td>\n",
       "    </tr>\n",
       "  </tbody>\n",
       "</table>\n",
       "</div>"
      ],
      "text/plain": [
       "   participantId  player.accountId  player.currentAccountID  \\\n",
       "0              2       231710330.0              231710330.0   \n",
       "1              2               NaN                      NaN   \n",
       "2              2       218766345.0              218766345.0   \n",
       "3              2       229428250.0                      NaN   \n",
       "4              2               NaN                      NaN   \n",
       "5              2               NaN                      NaN   \n",
       "6              2        37013139.0               37013139.0   \n",
       "7              2               NaN                      NaN   \n",
       "8              2               NaN                      NaN   \n",
       "9              2       231710330.0              231710330.0   \n",
       "\n",
       "   player.currentAccountId player.currentPlatformId  \\\n",
       "0                      NaN                      NA1   \n",
       "1                      NaN                      NaN   \n",
       "2                      NaN                      NA1   \n",
       "3              229428250.0                      NA1   \n",
       "4                      NaN                      NaN   \n",
       "5                      NaN                      NaN   \n",
       "6                      NaN                      NA1   \n",
       "7                      NaN                      NaN   \n",
       "8                      NaN                      NaN   \n",
       "9                      NaN                      NA1   \n",
       "\n",
       "                   player.matchHistoryUri player.platformId  \\\n",
       "0  /v1/stats/player_history/NA1/231710330               NA1   \n",
       "1                                     NaN               NaN   \n",
       "2  /v1/stats/player_history/NA1/218766345               NA1   \n",
       "3  /v1/stats/player_history/NA1/229428250               NA1   \n",
       "4                                     NaN               NaN   \n",
       "5                                     NaN               NaN   \n",
       "6   /v1/stats/player_history/NA1/37013139               NA1   \n",
       "7                                     NaN               NaN   \n",
       "8                                     NaN               NaN   \n",
       "9  /v1/stats/player_history/NA1/231710330               NA1   \n",
       "\n",
       "   player.profileIcon  player.summonerId player.summonerName  \n",
       "0              1643.0         73012371.0          jokokoloko  \n",
       "1                 NaN                NaN                 NaN  \n",
       "2              1670.0         61079726.0              Skeevo  \n",
       "3              1114.0         68830466.0             raccxxn  \n",
       "4                 NaN                NaN                 NaN  \n",
       "5                 NaN                NaN                 NaN  \n",
       "6              1663.0         23037187.0        Baaby Wipes   \n",
       "7                 NaN                NaN                 NaN  \n",
       "8                 NaN                NaN                 NaN  \n",
       "9              1643.0         73012371.0          jokokoloko  "
      ]
     },
     "execution_count": 48,
     "metadata": {},
     "output_type": "execute_result"
    }
   ],
   "source": [
    "flattend = flattencolumns(df, ['participantIdentities'])\n",
    "json_normalize(flattend['participantIdentities1'].head(n=10))"
   ]
  },
  {
   "cell_type": "code",
   "execution_count": 56,
   "metadata": {},
   "outputs": [
    {
     "ename": "AttributeError",
     "evalue": "'list' object has no attribute 'values'",
     "output_type": "error",
     "traceback": [
      "\u001b[0;31m---------------------------------------------------------------------------\u001b[0m",
      "\u001b[0;31mAttributeError\u001b[0m                            Traceback (most recent call last)",
      "\u001b[0;32m<ipython-input-56-09d4dbdead6e>\u001b[0m in \u001b[0;36m<module>\u001b[0;34m()\u001b[0m\n\u001b[0;32m----> 1\u001b[0;31m \u001b[0mjson_normalize\u001b[0m\u001b[0;34m(\u001b[0m\u001b[0mdf\u001b[0m\u001b[0;34m[\u001b[0m\u001b[0;34m'participantIdentities'\u001b[0m\u001b[0;34m]\u001b[0m\u001b[0;34m)\u001b[0m\u001b[0;34m\u001b[0m\u001b[0m\n\u001b[0m",
      "\u001b[0;32m~/anaconda3/envs/python3/lib/python3.6/site-packages/pandas/io/json/normalize.py\u001b[0m in \u001b[0;36mjson_normalize\u001b[0;34m(data, record_path, meta, meta_prefix, record_prefix, errors, sep)\u001b[0m\n\u001b[1;32m    190\u001b[0m \u001b[0;34m\u001b[0m\u001b[0m\n\u001b[1;32m    191\u001b[0m     \u001b[0;32mif\u001b[0m \u001b[0mrecord_path\u001b[0m \u001b[0;32mis\u001b[0m \u001b[0;32mNone\u001b[0m\u001b[0;34m:\u001b[0m\u001b[0;34m\u001b[0m\u001b[0m\n\u001b[0;32m--> 192\u001b[0;31m         \u001b[0;32mif\u001b[0m \u001b[0many\u001b[0m\u001b[0;34m(\u001b[0m\u001b[0;34m[\u001b[0m\u001b[0misinstance\u001b[0m\u001b[0;34m(\u001b[0m\u001b[0mx\u001b[0m\u001b[0;34m,\u001b[0m \u001b[0mdict\u001b[0m\u001b[0;34m)\u001b[0m \u001b[0;32mfor\u001b[0m \u001b[0mx\u001b[0m \u001b[0;32min\u001b[0m \u001b[0mcompat\u001b[0m\u001b[0;34m.\u001b[0m\u001b[0mitervalues\u001b[0m\u001b[0;34m(\u001b[0m\u001b[0mdata\u001b[0m\u001b[0;34m[\u001b[0m\u001b[0;36m0\u001b[0m\u001b[0;34m]\u001b[0m\u001b[0;34m)\u001b[0m\u001b[0;34m]\u001b[0m\u001b[0;34m)\u001b[0m\u001b[0;34m:\u001b[0m\u001b[0;34m\u001b[0m\u001b[0m\n\u001b[0m\u001b[1;32m    193\u001b[0m             \u001b[0;31m# naive normalization, this is idempotent for flat records\u001b[0m\u001b[0;34m\u001b[0m\u001b[0;34m\u001b[0m\u001b[0m\n\u001b[1;32m    194\u001b[0m             \u001b[0;31m# and potentially will inflate the data considerably for\u001b[0m\u001b[0;34m\u001b[0m\u001b[0;34m\u001b[0m\u001b[0m\n",
      "\u001b[0;32m~/anaconda3/envs/python3/lib/python3.6/site-packages/pandas/compat/__init__.py\u001b[0m in \u001b[0;36mitervalues\u001b[0;34m(obj, **kw)\u001b[0m\n\u001b[1;32m    205\u001b[0m \u001b[0;34m\u001b[0m\u001b[0m\n\u001b[1;32m    206\u001b[0m     \u001b[0;32mdef\u001b[0m \u001b[0mitervalues\u001b[0m\u001b[0;34m(\u001b[0m\u001b[0mobj\u001b[0m\u001b[0;34m,\u001b[0m \u001b[0;34m**\u001b[0m\u001b[0mkw\u001b[0m\u001b[0;34m)\u001b[0m\u001b[0;34m:\u001b[0m\u001b[0;34m\u001b[0m\u001b[0m\n\u001b[0;32m--> 207\u001b[0;31m         \u001b[0;32mreturn\u001b[0m \u001b[0miter\u001b[0m\u001b[0;34m(\u001b[0m\u001b[0mobj\u001b[0m\u001b[0;34m.\u001b[0m\u001b[0mvalues\u001b[0m\u001b[0;34m(\u001b[0m\u001b[0;34m**\u001b[0m\u001b[0mkw\u001b[0m\u001b[0;34m)\u001b[0m\u001b[0;34m)\u001b[0m\u001b[0;34m\u001b[0m\u001b[0m\n\u001b[0m\u001b[1;32m    208\u001b[0m \u001b[0;34m\u001b[0m\u001b[0m\n\u001b[1;32m    209\u001b[0m     \u001b[0mnext\u001b[0m \u001b[0;34m=\u001b[0m \u001b[0mnext\u001b[0m\u001b[0;34m\u001b[0m\u001b[0m\n",
      "\u001b[0;31mAttributeError\u001b[0m: 'list' object has no attribute 'values'"
     ]
    }
   ],
   "source": [
    "json_normalize(df['participantIdentities'])"
   ]
  },
  {
   "cell_type": "code",
   "execution_count": 43,
   "metadata": {},
   "outputs": [],
   "source": [
    "test = df[[\"gameCreation\",\"gameDuration\",\"gameId\",\"gameMode\",\"gameType\",\"gameVersion\",\"mapId\",\"participantIdentities\"]]"
   ]
  },
  {
   "cell_type": "code",
   "execution_count": 28,
   "metadata": {},
   "outputs": [
    {
     "data": {
      "text/plain": [
       "[{'participantId': 1,\n",
       "  'player': {'platformId': 'NA1',\n",
       "   'accountId': 37013139,\n",
       "   'summonerName': 'Baaby Wipes ',\n",
       "   'summonerId': 23037187,\n",
       "   'currentPlatformId': 'NA1',\n",
       "   'currentAccountID': 37013139,\n",
       "   'matchHistoryUri': '/v1/stats/player_history/NA1/37013139',\n",
       "   'profileIcon': 1663}},\n",
       " {'participantId': 2,\n",
       "  'player': {'platformId': 'NA1',\n",
       "   'accountId': 231710330,\n",
       "   'summonerName': 'jokokoloko',\n",
       "   'summonerId': 73012371,\n",
       "   'currentPlatformId': 'NA1',\n",
       "   'currentAccountID': 231710330,\n",
       "   'matchHistoryUri': '/v1/stats/player_history/NA1/231710330',\n",
       "   'profileIcon': 1643}},\n",
       " {'participantId': 3,\n",
       "  'player': {'platformId': 'NA1',\n",
       "   'accountId': 218766345,\n",
       "   'summonerName': 'Skeevo',\n",
       "   'summonerId': 61079726,\n",
       "   'currentPlatformId': 'NA1',\n",
       "   'currentAccountID': 218766345,\n",
       "   'matchHistoryUri': '/v1/stats/player_history/NA1/218766345',\n",
       "   'profileIcon': 1670}},\n",
       " {'participantId': 4},\n",
       " {'participantId': 5},\n",
       " {'participantId': 6},\n",
       " {'participantId': 7},\n",
       " {'participantId': 8},\n",
       " {'participantId': 9},\n",
       " {'participantId': 10}]"
      ]
     },
     "execution_count": 28,
     "metadata": {},
     "output_type": "execute_result"
    }
   ],
   "source": [
    "df['participantIdentities'][0]"
   ]
  },
  {
   "cell_type": "code",
   "execution_count": 23,
   "metadata": {},
   "outputs": [
    {
     "ename": "InterfaceError",
     "evalue": "(sqlite3.InterfaceError) Error binding parameter 7 - probably unsupported type. [SQL: 'INSERT INTO df (\"gameCreation\", \"gameDuration\", \"gameId\", \"gameMode\", \"gameType\", \"gameVersion\", \"mapId\", \"participantIdentities\", participants, \"platformId\", \"queueId\", \"seasonId\", teams) VALUES (?, ?, ?, ?, ?, ?, ?, ?, ?, ?, ?, ?, ?)'] [parameters: ((1499665649596, 1567, 2544823989, 'CLASSIC', 'MATCHED_GAME', '7.13.192.6794', 11, [{'participantId': 1, 'player': {'platformId': 'NA1', 'accountId': 37013139, 'summonerName': 'Baaby Wipes ', 'summonerId': 23037187, 'currentPlatformI ... (672 characters truncated) ... rticipantId': 4}, {'participantId': 5}, {'participantId': 6}, {'participantId': 7}, {'participantId': 8}, {'participantId': 9}, {'participantId': 10}], \"[{'participantId': 1, 'teamId': 100, 'championId': 412, 'spell1Id': 4, 'spell2Id': 14, 'masteries': [{'masteryId': 6212, 'rank': 5}, {'masteryId': 62 ... (25965 characters truncated) ... 0-20': 267.9, '0-10': 294.3}, 'damageTakenDiffPerMinDeltas': {'10-20': -126.29999999999997, '0-10': -153.2}, 'role': 'DUO_CARRY', 'lane': 'BOTTOM'}}]\", 'NA1', 400, 8, \"[{'teamId': 100, 'win': 'Fail', 'firstBlood': False, 'firstTower': False, 'firstInhibitor': False, 'firstBaron': False, 'firstDragon': False, 'firstR ... (694 characters truncated) ... : 6}, {'championId': 127, 'pickTurn': 7}, {'championId': 51, 'pickTurn': 8}, {'championId': 11, 'pickTurn': 9}, {'championId': 24, 'pickTurn': 10}]}]\"), (1499663117674, 1785, 2544810915, 'CLASSIC', 'MATCHED_GAME', '7.13.192.6794', 11, [{'participantId': 1}, {'participantId': 2}, {'participantId': 3, 'player': {'platformId': 'NA1', 'accountId': 37013139, 'summonerName': 'Baaby Wipes  ... (672 characters truncated) ... /NA1/218766345', 'profileIcon': 1670}}, {'participantId': 6}, {'participantId': 7}, {'participantId': 8}, {'participantId': 9}, {'participantId': 10}], \"[{'participantId': 1, 'teamId': 100, 'championId': 24, 'spell1Id': 11, 'spell2Id': 4, 'masteries': [{'masteryId': 6111, 'rank': 5}, {'masteryId': 612 ... (26419 characters truncated) ... 0999999999999, '0-10': 78.3}, 'damageTakenDiffPerMinDeltas': {'10-20': -246.7, '0-10': -160.45000000000002}, 'role': 'DUO_CARRY', 'lane': 'BOTTOM'}}]\", 'NA1', 400, 8, \"[{'teamId': 100, 'win': 'Fail', 'firstBlood': True, 'firstTower': False, 'firstInhibitor': False, 'firstBaron': False, 'firstDragon': False, 'firstRi ... (692 characters truncated) ... 6}, {'championId': 497, 'pickTurn': 7}, {'championId': 81, 'pickTurn': 8}, {'championId': 154, 'pickTurn': 9}, {'championId': 238, 'pickTurn': 10}]}]\"), (1499660524114, 2048, 2544655056, 'CLASSIC', 'MATCHED_GAME', '7.13.192.6794', 11, [{'participantId': 1, 'player': {'platformId': 'NA1', 'accountId': 37013139, 'summonerName': 'Baaby Wipes ', 'summonerId': 23037187, 'currentPlatformI ... (665 characters truncated) ... rticipantId': 4}, {'participantId': 5}, {'participantId': 6}, {'participantId': 7}, {'participantId': 8}, {'participantId': 9}, {'participantId': 10}], \"[{'participantId': 1, 'teamId': 100, 'championId': 114, 'spell1Id': 4, 'spell2Id': 12, 'masteries': [{'masteryId': 6114, 'rank': 5}, {'masteryId': 61 ... (27690 characters truncated) ... 999}, 'damageTakenDiffPerMinDeltas': {'10-20': -202.2, '0-10': -44.099999999999994, '20-30': 139.09999999999997}, 'role': 'SOLO', 'lane': 'MIDDLE'}}]\", 'NA1', 400, 8, \"[{'teamId': 100, 'win': 'Win', 'firstBlood': True, 'firstTower': False, 'firstInhibitor': False, 'firstBaron': False, 'firstDragon': False, 'firstRif ... (693 characters truncated) ... 6}, {'championId': 412, 'pickTurn': 7}, {'championId': 126, 'pickTurn': 8}, {'championId': 53, 'pickTurn': 9}, {'championId': 154, 'pickTurn': 10}]}]\"), (1499572402641, 1514, 2543872569, 'CLASSIC', 'MATCHED_GAME', '7.13.192.6794', 11, [{'participantId': 1, 'player': {'platformId': 'NA1', 'accountId': 214753011, 'summonerName': 'Keep the Beats', 'summonerId': 51797629, 'currentPlatfo ... (2437 characters truncated) ...  19360863, 'currentPlatformId': 'NA1', 'currentAccountId': 32055340, 'matchHistoryUri': '/v1/stats/player_history/NA/32055340', 'profileIcon': 1666}}], \"[{'participantId': 1, 'teamId': 100, 'championId': 8, 'spell1Id': 4, 'spell2Id': 14, 'masteries': [{'masteryId': 6114, 'rank': 5}, {'masteryId': 6122 ... (26720 characters truncated) ... 0': 544.6, '0-10': 318}, 'damageTakenDiffPerMinDeltas': {'10-20': -411.20000000000005, '0-10': -163.89999999999998}, 'role': 'SOLO', 'lane': 'TOP'}}]\", 'NA1', 420, 8, \"[{'teamId': 100, 'win': 'Win', 'firstBlood': False, 'firstTower': True, 'firstInhibitor': True, 'firstBaron': True, 'firstDragon': True, 'firstRiftHe ... (689 characters truncated) ... : 6}, {'championId': 23, 'pickTurn': 7}, {'championId': 119, 'pickTurn': 8}, {'championId': 202, 'pickTurn': 9}, {'championId': 1, 'pickTurn': 10}]}]\"), (1499556741221, 2476, 2543685823, 'CLASSIC', 'MATCHED_GAME', '7.13.192.6794', 11, [{'participantId': 1}, {'participantId': 2}, {'participantId': 3}, {'participantId': 4}, {'participantId': 5}, {'participantId': 6, 'player': {'platfo ... (1165 characters truncated) ... 24132946, 'currentPlatformId': 'NA1', 'currentAccountID': 38364439, 'matchHistoryUri': '/v1/stats/player_history/NA1/38364439', 'profileIcon': 1236}}], \"[{'participantId': 1, 'teamId': 100, 'championId': 267, 'spell1Id': 3, 'spell2Id': 4, 'masteries': [{'masteryId': 6212, 'rank': 5}, {'masteryId': 622 ... (29510 characters truncated) ... 20': 106.30000000000001, '0-10': -13.000000000000028, '30-end': 156.9000000000001, '20-30': -429.20000000000005}, 'role': 'NONE', 'lane': 'JUNGLE'}}]\", 'NA1', 400, 8, \"[{'teamId': 100, 'win': 'Win', 'firstBlood': False, 'firstTower': True, 'firstInhibitor': False, 'firstBaron': False, 'firstDragon': False, 'firstRif ... (690 characters truncated) ...  6}, {'championId': 67, 'pickTurn': 7}, {'championId': 119, 'pickTurn': 8}, {'championId': 157, 'pickTurn': 9}, {'championId': 53, 'pickTurn': 10}]}]\"), (1499554266343, 2059, 2543681846, 'CLASSIC', 'MATCHED_GAME', '7.13.192.6794', 11, [{'participantId': 1}, {'participantId': 2}, {'participantId': 3}, {'participantId': 4}, {'participantId': 5}, {'participantId': 6, 'player': {'platfo ... (1165 characters truncated) ... 24132946, 'currentPlatformId': 'NA1', 'currentAccountID': 38364439, 'matchHistoryUri': '/v1/stats/player_history/NA1/38364439', 'profileIcon': 1236}}], \"[{'participantId': 1, 'teamId': 100, 'championId': 77, 'spell1Id': 4, 'spell2Id': 11, 'masteries': [{'masteryId': 6212, 'rank': 5}, {'masteryId': 622 ... (28002 characters truncated) ... 0-10': 587.5, '20-30': 549.9}, 'damageTakenDiffPerMinDeltas': {'10-20': -407.4, '0-10': -57.5, '20-30': -1124.9}, 'role': 'NONE', 'lane': 'JUNGLE'}}]\", 'NA1', 400, 8, \"[{'teamId': 100, 'win': 'Fail', 'firstBlood': False, 'firstTower': True, 'firstInhibitor': False, 'firstBaron': False, 'firstDragon': False, 'firstRi ... (691 characters truncated) ...  6}, {'championId': 67, 'pickTurn': 7}, {'championId': 119, 'pickTurn': 8}, {'championId': 157, 'pickTurn': 9}, {'championId': 53, 'pickTurn': 10}]}]\"), (1499552061048, 1545, 2543636860, 'CLASSIC', 'MATCHED_GAME', '7.13.192.6794', 11, [{'participantId': 1}, {'participantId': 2, 'player': {'platformId': 'NA1', 'accountId': 37013139, 'summonerName': 'Baaby Wipes ', 'summonerId': 23037 ... (920 characters truncated) ... y/NA1/38364439', 'profileIcon': 1236}}, {'participantId': 6}, {'participantId': 7}, {'participantId': 8}, {'participantId': 9}, {'participantId': 10}], \"[{'participantId': 1, 'teamId': 100, 'championId': 13, 'spell1Id': 6, 'spell2Id': 4, 'masteries': [{'masteryId': 6114, 'rank': 5}, {'masteryId': 6123 ... (26785 characters truncated) ... 0': 715.9000000000001}, 'damageTakenDiffPerMinDeltas': {'10-20': -45.80000000000001, '0-10': 12.500000000000057}, 'role': 'NONE', 'lane': 'JUNGLE'}}]\", 'NA1', 400, 8, \"[{'teamId': 100, 'win': 'Fail', 'firstBlood': False, 'firstTower': False, 'firstInhibitor': False, 'firstBaron': False, 'firstDragon': False, 'firstR ... (691 characters truncated) ...  6}, {'championId': 134, 'pickTurn': 7}, {'championId': 105, 'pickTurn': 8}, {'championId': 53, 'pickTurn': 9}, {'championId': 64, 'pickTurn': 10}]}]\"), (1499550279174, 1306, 2543625615, 'CLASSIC', 'MATCHED_GAME', '7.13.192.6794', 11, [{'participantId': 1}, {'participantId': 2}, {'participantId': 3}, {'participantId': 4}, {'participantId': 5}, {'participantId': 6, 'player': {'platfo ... (920 characters truncated) ... ormId': 'NA1', 'currentAccountID': 38364439, 'matchHistoryUri': '/v1/stats/player_history/NA1/38364439', 'profileIcon': 1236}}, {'participantId': 10}], \"[{'participantId': 1, 'teamId': 100, 'championId': 61, 'spell1Id': 6, 'spell2Id': 4, 'masteries': [{'masteryId': 6114, 'rank': 5}, {'masteryId': 6122 ... (26556 characters truncated) ... : 1208.9, '0-10': 533.1}, 'damageTakenDiffPerMinDeltas': {'10-20': 717.4000000000001, '0-10': 344.4000000000001}, 'role': 'SOLO', 'lane': 'MIDDLE'}}]\", 'NA1', 400, 8, \"[{'teamId': 100, 'win': 'Win', 'firstBlood': True, 'firstTower': True, 'firstInhibitor': True, 'firstBaron': False, 'firstDragon': True, 'firstRiftHe ... (691 characters truncated) ...  6}, {'championId': 103, 'pickTurn': 7}, {'championId': 39, 'pickTurn': 8}, {'championId': 154, 'pickTurn': 9}, {'championId': 69, 'pickTurn': 10}]}]\")  ... displaying 10 of 139 total bound parameter sets ...  (1477379450121, 1229, 2328274396, 'ARAM', 'CUSTOM_GAME', '6.21.162.7510', 12, [{'participantId': 1}, {'participantId': 2}, {'participantId': 3, 'player': {'platformId': 'NA1', 'accountId': 226845662, 'summonerName': 'ecslater',  ... (82 characters truncated) ...  'matchHistoryUri': '/v1/stats/player_history/NA1/226845662', 'profileIcon': 1301}}, {'participantId': 4}, {'participantId': 5}, {'participantId': 6}], \"[{'participantId': 1, 'teamId': 100, 'championId': 92, 'spell1Id': 4, 'spell2Id': 32, 'masteries': [{'masteryId': 6111, 'rank': 5}, {'masteryId': 612 ... (15993 characters truncated) ...  1406, '0-10': 885.8}, 'damageTakenDiffPerMinDeltas': {'10-20': -703.9333333333329, '0-10': -232.43333333333322}, 'role': 'NONE', 'lane': 'MIDDLE'}}]\", 'NA1', 0, 7, \"[{'teamId': 100, 'win': 'Fail', 'firstBlood': False, 'firstTower': False, 'firstInhibitor': False, 'firstBaron': False, 'firstDragon': False, 'firstR ... (340 characters truncated) ... erKills': 4, 'inhibitorKills': 2, 'baronKills': 0, 'dragonKills': 0, 'vilemawKills': 0, 'riftHeraldKills': 0, 'dominionVictoryScore': 0, 'bans': []}]\"), (1477377415695, 1645, 2328293961, 'ARAM', 'CUSTOM_GAME', '6.21.162.7510', 12, [{'participantId': 1}, {'participantId': 2, 'player': {'platformId': 'NA1', 'accountId': 226845662, 'summonerName': 'ecslater', 'summonerId': 64800284 ... (126 characters truncated) ... fileIcon': 1301}}, {'participantId': 3}, {'participantId': 4}, {'participantId': 5}, {'participantId': 6}, {'participantId': 7}, {'participantId': 8}], \"[{'participantId': 1, 'teamId': 100, 'championId': 202, 'spell1Id': 7, 'spell2Id': 4, 'masteries': [{'masteryId': 6114, 'rank': 5}, {'masteryId': 612 ... (20581 characters truncated) ... 10': 627.0999999999999}, 'damageTakenDiffPerMinDeltas': {'10-20': 470.8499999999998, '0-10': 40.400000000000034}, 'role': 'NONE', 'lane': 'MIDDLE'}}]\", 'NA1', 0, 7, \"[{'teamId': 100, 'win': 'Win', 'firstBlood': False, 'firstTower': True, 'firstInhibitor': True, 'firstBaron': False, 'firstDragon': False, 'firstRift ... (340 characters truncated) ... erKills': 2, 'inhibitorKills': 0, 'baronKills': 0, 'dragonKills': 0, 'vilemawKills': 0, 'riftHeraldKills': 0, 'dominionVictoryScore': 0, 'bans': []}]\"))] (Background on this error at: http://sqlalche.me/e/rvf5)",
     "output_type": "error",
     "traceback": [
      "\u001b[0;31m---------------------------------------------------------------------------\u001b[0m",
      "\u001b[0;31mInterfaceError\u001b[0m                            Traceback (most recent call last)",
      "\u001b[0;32m~/anaconda3/envs/python3/lib/python3.6/site-packages/sqlalchemy/engine/base.py\u001b[0m in \u001b[0;36m_execute_context\u001b[0;34m(self, dialect, constructor, statement, parameters, *args)\u001b[0m\n\u001b[1;32m   1169\u001b[0m                         \u001b[0mparameters\u001b[0m\u001b[0;34m,\u001b[0m\u001b[0;34m\u001b[0m\u001b[0m\n\u001b[0;32m-> 1170\u001b[0;31m                         context)\n\u001b[0m\u001b[1;32m   1171\u001b[0m             \u001b[0;32melif\u001b[0m \u001b[0;32mnot\u001b[0m \u001b[0mparameters\u001b[0m \u001b[0;32mand\u001b[0m \u001b[0mcontext\u001b[0m\u001b[0;34m.\u001b[0m\u001b[0mno_parameters\u001b[0m\u001b[0;34m:\u001b[0m\u001b[0;34m\u001b[0m\u001b[0m\n",
      "\u001b[0;32m~/anaconda3/envs/python3/lib/python3.6/site-packages/sqlalchemy/engine/default.py\u001b[0m in \u001b[0;36mdo_executemany\u001b[0;34m(self, cursor, statement, parameters, context)\u001b[0m\n\u001b[1;32m    503\u001b[0m     \u001b[0;32mdef\u001b[0m \u001b[0mdo_executemany\u001b[0m\u001b[0;34m(\u001b[0m\u001b[0mself\u001b[0m\u001b[0;34m,\u001b[0m \u001b[0mcursor\u001b[0m\u001b[0;34m,\u001b[0m \u001b[0mstatement\u001b[0m\u001b[0;34m,\u001b[0m \u001b[0mparameters\u001b[0m\u001b[0;34m,\u001b[0m \u001b[0mcontext\u001b[0m\u001b[0;34m=\u001b[0m\u001b[0;32mNone\u001b[0m\u001b[0;34m)\u001b[0m\u001b[0;34m:\u001b[0m\u001b[0;34m\u001b[0m\u001b[0m\n\u001b[0;32m--> 504\u001b[0;31m         \u001b[0mcursor\u001b[0m\u001b[0;34m.\u001b[0m\u001b[0mexecutemany\u001b[0m\u001b[0;34m(\u001b[0m\u001b[0mstatement\u001b[0m\u001b[0;34m,\u001b[0m \u001b[0mparameters\u001b[0m\u001b[0;34m)\u001b[0m\u001b[0;34m\u001b[0m\u001b[0m\n\u001b[0m\u001b[1;32m    505\u001b[0m \u001b[0;34m\u001b[0m\u001b[0m\n",
      "\u001b[0;31mInterfaceError\u001b[0m: Error binding parameter 7 - probably unsupported type.",
      "\nThe above exception was the direct cause of the following exception:\n",
      "\u001b[0;31mInterfaceError\u001b[0m                            Traceback (most recent call last)",
      "\u001b[0;32m<ipython-input-23-6285868aeb9a>\u001b[0m in \u001b[0;36m<module>\u001b[0;34m()\u001b[0m\n\u001b[1;32m      2\u001b[0m \u001b[0mselect\u001b[0m \u001b[0;34m*\u001b[0m\u001b[0;34m\u001b[0m\u001b[0m\n\u001b[1;32m      3\u001b[0m \u001b[0;32mfrom\u001b[0m \u001b[0mdf\u001b[0m\u001b[0;34m\u001b[0m\u001b[0m\n\u001b[0;32m----> 4\u001b[0;31m \"\"\")\n\u001b[0m",
      "\u001b[0;32m<ipython-input-2-dd9be054c25e>\u001b[0m in \u001b[0;36m<lambda>\u001b[0;34m(q)\u001b[0m\n\u001b[1;32m      1\u001b[0m \u001b[0;32mimport\u001b[0m \u001b[0mpandas\u001b[0m \u001b[0;32mas\u001b[0m \u001b[0mpd\u001b[0m\u001b[0;34m\u001b[0m\u001b[0m\n\u001b[1;32m      2\u001b[0m \u001b[0;32mfrom\u001b[0m \u001b[0mpandasql\u001b[0m \u001b[0;32mimport\u001b[0m \u001b[0msqldf\u001b[0m\u001b[0;34m\u001b[0m\u001b[0m\n\u001b[0;32m----> 3\u001b[0;31m \u001b[0mdfsql\u001b[0m \u001b[0;34m=\u001b[0m \u001b[0;32mlambda\u001b[0m \u001b[0mq\u001b[0m\u001b[0;34m:\u001b[0m \u001b[0msqldf\u001b[0m\u001b[0;34m(\u001b[0m\u001b[0mq\u001b[0m\u001b[0;34m,\u001b[0m \u001b[0mglobals\u001b[0m\u001b[0;34m(\u001b[0m\u001b[0;34m)\u001b[0m\u001b[0;34m)\u001b[0m\u001b[0;34m\u001b[0m\u001b[0m\n\u001b[0m",
      "\u001b[0;32m~/anaconda3/envs/python3/lib/python3.6/site-packages/pandasql/sqldf.py\u001b[0m in \u001b[0;36msqldf\u001b[0;34m(query, env, db_uri)\u001b[0m\n\u001b[1;32m    154\u001b[0m     \u001b[0;34m>>\u001b[0m\u001b[0;34m>\u001b[0m \u001b[0msqldf\u001b[0m\u001b[0;34m(\u001b[0m\u001b[0;34m\"select avg(x) from df;\"\u001b[0m\u001b[0;34m,\u001b[0m \u001b[0mlocals\u001b[0m\u001b[0;34m(\u001b[0m\u001b[0;34m)\u001b[0m\u001b[0;34m)\u001b[0m\u001b[0;34m\u001b[0m\u001b[0m\n\u001b[1;32m    155\u001b[0m     \"\"\"\n\u001b[0;32m--> 156\u001b[0;31m     \u001b[0;32mreturn\u001b[0m \u001b[0mPandaSQL\u001b[0m\u001b[0;34m(\u001b[0m\u001b[0mdb_uri\u001b[0m\u001b[0;34m)\u001b[0m\u001b[0;34m(\u001b[0m\u001b[0mquery\u001b[0m\u001b[0;34m,\u001b[0m \u001b[0menv\u001b[0m\u001b[0;34m)\u001b[0m\u001b[0;34m\u001b[0m\u001b[0m\n\u001b[0m",
      "\u001b[0;32m~/anaconda3/envs/python3/lib/python3.6/site-packages/pandasql/sqldf.py\u001b[0m in \u001b[0;36m__call__\u001b[0;34m(self, query, env)\u001b[0m\n\u001b[1;32m     56\u001b[0m                     \u001b[0;32mcontinue\u001b[0m\u001b[0;34m\u001b[0m\u001b[0m\n\u001b[1;32m     57\u001b[0m                 \u001b[0mself\u001b[0m\u001b[0;34m.\u001b[0m\u001b[0mloaded_tables\u001b[0m\u001b[0;34m.\u001b[0m\u001b[0madd\u001b[0m\u001b[0;34m(\u001b[0m\u001b[0mtable_name\u001b[0m\u001b[0;34m)\u001b[0m\u001b[0;34m\u001b[0m\u001b[0m\n\u001b[0;32m---> 58\u001b[0;31m                 \u001b[0mwrite_table\u001b[0m\u001b[0;34m(\u001b[0m\u001b[0menv\u001b[0m\u001b[0;34m[\u001b[0m\u001b[0mtable_name\u001b[0m\u001b[0;34m]\u001b[0m\u001b[0;34m,\u001b[0m \u001b[0mtable_name\u001b[0m\u001b[0;34m,\u001b[0m \u001b[0mconn\u001b[0m\u001b[0;34m)\u001b[0m\u001b[0;34m\u001b[0m\u001b[0m\n\u001b[0m\u001b[1;32m     59\u001b[0m \u001b[0;34m\u001b[0m\u001b[0m\n\u001b[1;32m     60\u001b[0m             \u001b[0;32mtry\u001b[0m\u001b[0;34m:\u001b[0m\u001b[0;34m\u001b[0m\u001b[0m\n",
      "\u001b[0;32m~/anaconda3/envs/python3/lib/python3.6/site-packages/pandasql/sqldf.py\u001b[0m in \u001b[0;36mwrite_table\u001b[0;34m(df, tablename, conn)\u001b[0m\n\u001b[1;32m    119\u001b[0m                        message='The provided table name \\'%s\\' is not found exactly as such in the database' % tablename)\n\u001b[1;32m    120\u001b[0m         to_sql(df, name=tablename, con=conn,\n\u001b[0;32m--> 121\u001b[0;31m                index=not any(name is None for name in df.index.names))  # load index into db if all levels are named\n\u001b[0m\u001b[1;32m    122\u001b[0m \u001b[0;34m\u001b[0m\u001b[0m\n\u001b[1;32m    123\u001b[0m \u001b[0;34m\u001b[0m\u001b[0m\n",
      "\u001b[0;32m~/anaconda3/envs/python3/lib/python3.6/site-packages/pandas/io/sql.py\u001b[0m in \u001b[0;36mto_sql\u001b[0;34m(frame, name, con, flavor, schema, if_exists, index, index_label, chunksize, dtype)\u001b[0m\n\u001b[1;32m    471\u001b[0m     pandas_sql.to_sql(frame, name, if_exists=if_exists, index=index,\n\u001b[1;32m    472\u001b[0m                       \u001b[0mindex_label\u001b[0m\u001b[0;34m=\u001b[0m\u001b[0mindex_label\u001b[0m\u001b[0;34m,\u001b[0m \u001b[0mschema\u001b[0m\u001b[0;34m=\u001b[0m\u001b[0mschema\u001b[0m\u001b[0;34m,\u001b[0m\u001b[0;34m\u001b[0m\u001b[0m\n\u001b[0;32m--> 473\u001b[0;31m                       chunksize=chunksize, dtype=dtype)\n\u001b[0m\u001b[1;32m    474\u001b[0m \u001b[0;34m\u001b[0m\u001b[0m\n\u001b[1;32m    475\u001b[0m \u001b[0;34m\u001b[0m\u001b[0m\n",
      "\u001b[0;32m~/anaconda3/envs/python3/lib/python3.6/site-packages/pandas/io/sql.py\u001b[0m in \u001b[0;36mto_sql\u001b[0;34m(self, frame, name, if_exists, index, index_label, schema, chunksize, dtype)\u001b[0m\n\u001b[1;32m   1154\u001b[0m                          schema=schema, dtype=dtype)\n\u001b[1;32m   1155\u001b[0m         \u001b[0mtable\u001b[0m\u001b[0;34m.\u001b[0m\u001b[0mcreate\u001b[0m\u001b[0;34m(\u001b[0m\u001b[0;34m)\u001b[0m\u001b[0;34m\u001b[0m\u001b[0m\n\u001b[0;32m-> 1156\u001b[0;31m         \u001b[0mtable\u001b[0m\u001b[0;34m.\u001b[0m\u001b[0minsert\u001b[0m\u001b[0;34m(\u001b[0m\u001b[0mchunksize\u001b[0m\u001b[0;34m)\u001b[0m\u001b[0;34m\u001b[0m\u001b[0m\n\u001b[0m\u001b[1;32m   1157\u001b[0m         \u001b[0;32mif\u001b[0m \u001b[0;34m(\u001b[0m\u001b[0;32mnot\u001b[0m \u001b[0mname\u001b[0m\u001b[0;34m.\u001b[0m\u001b[0misdigit\u001b[0m\u001b[0;34m(\u001b[0m\u001b[0;34m)\u001b[0m \u001b[0;32mand\u001b[0m \u001b[0;32mnot\u001b[0m \u001b[0mname\u001b[0m\u001b[0;34m.\u001b[0m\u001b[0mislower\u001b[0m\u001b[0;34m(\u001b[0m\u001b[0;34m)\u001b[0m\u001b[0;34m)\u001b[0m\u001b[0;34m:\u001b[0m\u001b[0;34m\u001b[0m\u001b[0m\n\u001b[1;32m   1158\u001b[0m             \u001b[0;31m# check for potentially case sensitivity issues (GH7815)\u001b[0m\u001b[0;34m\u001b[0m\u001b[0;34m\u001b[0m\u001b[0m\n",
      "\u001b[0;32m~/anaconda3/envs/python3/lib/python3.6/site-packages/pandas/io/sql.py\u001b[0m in \u001b[0;36minsert\u001b[0;34m(self, chunksize)\u001b[0m\n\u001b[1;32m    668\u001b[0m \u001b[0;34m\u001b[0m\u001b[0m\n\u001b[1;32m    669\u001b[0m                 \u001b[0mchunk_iter\u001b[0m \u001b[0;34m=\u001b[0m \u001b[0mzip\u001b[0m\u001b[0;34m(\u001b[0m\u001b[0;34m*\u001b[0m\u001b[0;34m[\u001b[0m\u001b[0marr\u001b[0m\u001b[0;34m[\u001b[0m\u001b[0mstart_i\u001b[0m\u001b[0;34m:\u001b[0m\u001b[0mend_i\u001b[0m\u001b[0;34m]\u001b[0m \u001b[0;32mfor\u001b[0m \u001b[0marr\u001b[0m \u001b[0;32min\u001b[0m \u001b[0mdata_list\u001b[0m\u001b[0;34m]\u001b[0m\u001b[0;34m)\u001b[0m\u001b[0;34m\u001b[0m\u001b[0m\n\u001b[0;32m--> 670\u001b[0;31m                 \u001b[0mself\u001b[0m\u001b[0;34m.\u001b[0m\u001b[0m_execute_insert\u001b[0m\u001b[0;34m(\u001b[0m\u001b[0mconn\u001b[0m\u001b[0;34m,\u001b[0m \u001b[0mkeys\u001b[0m\u001b[0;34m,\u001b[0m \u001b[0mchunk_iter\u001b[0m\u001b[0;34m)\u001b[0m\u001b[0;34m\u001b[0m\u001b[0m\n\u001b[0m\u001b[1;32m    671\u001b[0m \u001b[0;34m\u001b[0m\u001b[0m\n\u001b[1;32m    672\u001b[0m     def _query_iterator(self, result, chunksize, columns, coerce_float=True,\n",
      "\u001b[0;32m~/anaconda3/envs/python3/lib/python3.6/site-packages/pandas/io/sql.py\u001b[0m in \u001b[0;36m_execute_insert\u001b[0;34m(self, conn, keys, data_iter)\u001b[0m\n\u001b[1;32m    643\u001b[0m     \u001b[0;32mdef\u001b[0m \u001b[0m_execute_insert\u001b[0m\u001b[0;34m(\u001b[0m\u001b[0mself\u001b[0m\u001b[0;34m,\u001b[0m \u001b[0mconn\u001b[0m\u001b[0;34m,\u001b[0m \u001b[0mkeys\u001b[0m\u001b[0;34m,\u001b[0m \u001b[0mdata_iter\u001b[0m\u001b[0;34m)\u001b[0m\u001b[0;34m:\u001b[0m\u001b[0;34m\u001b[0m\u001b[0m\n\u001b[1;32m    644\u001b[0m         \u001b[0mdata\u001b[0m \u001b[0;34m=\u001b[0m \u001b[0;34m[\u001b[0m\u001b[0mdict\u001b[0m\u001b[0;34m(\u001b[0m\u001b[0;34m(\u001b[0m\u001b[0mk\u001b[0m\u001b[0;34m,\u001b[0m \u001b[0mv\u001b[0m\u001b[0;34m)\u001b[0m \u001b[0;32mfor\u001b[0m \u001b[0mk\u001b[0m\u001b[0;34m,\u001b[0m \u001b[0mv\u001b[0m \u001b[0;32min\u001b[0m \u001b[0mzip\u001b[0m\u001b[0;34m(\u001b[0m\u001b[0mkeys\u001b[0m\u001b[0;34m,\u001b[0m \u001b[0mrow\u001b[0m\u001b[0;34m)\u001b[0m\u001b[0;34m)\u001b[0m \u001b[0;32mfor\u001b[0m \u001b[0mrow\u001b[0m \u001b[0;32min\u001b[0m \u001b[0mdata_iter\u001b[0m\u001b[0;34m]\u001b[0m\u001b[0;34m\u001b[0m\u001b[0m\n\u001b[0;32m--> 645\u001b[0;31m         \u001b[0mconn\u001b[0m\u001b[0;34m.\u001b[0m\u001b[0mexecute\u001b[0m\u001b[0;34m(\u001b[0m\u001b[0mself\u001b[0m\u001b[0;34m.\u001b[0m\u001b[0minsert_statement\u001b[0m\u001b[0;34m(\u001b[0m\u001b[0;34m)\u001b[0m\u001b[0;34m,\u001b[0m \u001b[0mdata\u001b[0m\u001b[0;34m)\u001b[0m\u001b[0;34m\u001b[0m\u001b[0m\n\u001b[0m\u001b[1;32m    646\u001b[0m \u001b[0;34m\u001b[0m\u001b[0m\n\u001b[1;32m    647\u001b[0m     \u001b[0;32mdef\u001b[0m \u001b[0minsert\u001b[0m\u001b[0;34m(\u001b[0m\u001b[0mself\u001b[0m\u001b[0;34m,\u001b[0m \u001b[0mchunksize\u001b[0m\u001b[0;34m=\u001b[0m\u001b[0;32mNone\u001b[0m\u001b[0;34m)\u001b[0m\u001b[0;34m:\u001b[0m\u001b[0;34m\u001b[0m\u001b[0m\n",
      "\u001b[0;32m~/anaconda3/envs/python3/lib/python3.6/site-packages/sqlalchemy/engine/base.py\u001b[0m in \u001b[0;36mexecute\u001b[0;34m(self, object, *multiparams, **params)\u001b[0m\n\u001b[1;32m    946\u001b[0m             \u001b[0;32mraise\u001b[0m \u001b[0mexc\u001b[0m\u001b[0;34m.\u001b[0m\u001b[0mObjectNotExecutableError\u001b[0m\u001b[0;34m(\u001b[0m\u001b[0mobject\u001b[0m\u001b[0;34m)\u001b[0m\u001b[0;34m\u001b[0m\u001b[0m\n\u001b[1;32m    947\u001b[0m         \u001b[0;32melse\u001b[0m\u001b[0;34m:\u001b[0m\u001b[0;34m\u001b[0m\u001b[0m\n\u001b[0;32m--> 948\u001b[0;31m             \u001b[0;32mreturn\u001b[0m \u001b[0mmeth\u001b[0m\u001b[0;34m(\u001b[0m\u001b[0mself\u001b[0m\u001b[0;34m,\u001b[0m \u001b[0mmultiparams\u001b[0m\u001b[0;34m,\u001b[0m \u001b[0mparams\u001b[0m\u001b[0;34m)\u001b[0m\u001b[0;34m\u001b[0m\u001b[0m\n\u001b[0m\u001b[1;32m    949\u001b[0m \u001b[0;34m\u001b[0m\u001b[0m\n\u001b[1;32m    950\u001b[0m     \u001b[0;32mdef\u001b[0m \u001b[0m_execute_function\u001b[0m\u001b[0;34m(\u001b[0m\u001b[0mself\u001b[0m\u001b[0;34m,\u001b[0m \u001b[0mfunc\u001b[0m\u001b[0;34m,\u001b[0m \u001b[0mmultiparams\u001b[0m\u001b[0;34m,\u001b[0m \u001b[0mparams\u001b[0m\u001b[0;34m)\u001b[0m\u001b[0;34m:\u001b[0m\u001b[0;34m\u001b[0m\u001b[0m\n",
      "\u001b[0;32m~/anaconda3/envs/python3/lib/python3.6/site-packages/sqlalchemy/sql/elements.py\u001b[0m in \u001b[0;36m_execute_on_connection\u001b[0;34m(self, connection, multiparams, params)\u001b[0m\n\u001b[1;32m    267\u001b[0m     \u001b[0;32mdef\u001b[0m \u001b[0m_execute_on_connection\u001b[0m\u001b[0;34m(\u001b[0m\u001b[0mself\u001b[0m\u001b[0;34m,\u001b[0m \u001b[0mconnection\u001b[0m\u001b[0;34m,\u001b[0m \u001b[0mmultiparams\u001b[0m\u001b[0;34m,\u001b[0m \u001b[0mparams\u001b[0m\u001b[0;34m)\u001b[0m\u001b[0;34m:\u001b[0m\u001b[0;34m\u001b[0m\u001b[0m\n\u001b[1;32m    268\u001b[0m         \u001b[0;32mif\u001b[0m \u001b[0mself\u001b[0m\u001b[0;34m.\u001b[0m\u001b[0msupports_execution\u001b[0m\u001b[0;34m:\u001b[0m\u001b[0;34m\u001b[0m\u001b[0m\n\u001b[0;32m--> 269\u001b[0;31m             \u001b[0;32mreturn\u001b[0m \u001b[0mconnection\u001b[0m\u001b[0;34m.\u001b[0m\u001b[0m_execute_clauseelement\u001b[0m\u001b[0;34m(\u001b[0m\u001b[0mself\u001b[0m\u001b[0;34m,\u001b[0m \u001b[0mmultiparams\u001b[0m\u001b[0;34m,\u001b[0m \u001b[0mparams\u001b[0m\u001b[0;34m)\u001b[0m\u001b[0;34m\u001b[0m\u001b[0m\n\u001b[0m\u001b[1;32m    270\u001b[0m         \u001b[0;32melse\u001b[0m\u001b[0;34m:\u001b[0m\u001b[0;34m\u001b[0m\u001b[0m\n\u001b[1;32m    271\u001b[0m             \u001b[0;32mraise\u001b[0m \u001b[0mexc\u001b[0m\u001b[0;34m.\u001b[0m\u001b[0mObjectNotExecutableError\u001b[0m\u001b[0;34m(\u001b[0m\u001b[0mself\u001b[0m\u001b[0;34m)\u001b[0m\u001b[0;34m\u001b[0m\u001b[0m\n",
      "\u001b[0;32m~/anaconda3/envs/python3/lib/python3.6/site-packages/sqlalchemy/engine/base.py\u001b[0m in \u001b[0;36m_execute_clauseelement\u001b[0;34m(self, elem, multiparams, params)\u001b[0m\n\u001b[1;32m   1058\u001b[0m             \u001b[0mcompiled_sql\u001b[0m\u001b[0;34m,\u001b[0m\u001b[0;34m\u001b[0m\u001b[0m\n\u001b[1;32m   1059\u001b[0m             \u001b[0mdistilled_params\u001b[0m\u001b[0;34m,\u001b[0m\u001b[0;34m\u001b[0m\u001b[0m\n\u001b[0;32m-> 1060\u001b[0;31m             \u001b[0mcompiled_sql\u001b[0m\u001b[0;34m,\u001b[0m \u001b[0mdistilled_params\u001b[0m\u001b[0;34m\u001b[0m\u001b[0m\n\u001b[0m\u001b[1;32m   1061\u001b[0m         )\n\u001b[1;32m   1062\u001b[0m         \u001b[0;32mif\u001b[0m \u001b[0mself\u001b[0m\u001b[0;34m.\u001b[0m\u001b[0m_has_events\u001b[0m \u001b[0;32mor\u001b[0m \u001b[0mself\u001b[0m\u001b[0;34m.\u001b[0m\u001b[0mengine\u001b[0m\u001b[0;34m.\u001b[0m\u001b[0m_has_events\u001b[0m\u001b[0;34m:\u001b[0m\u001b[0;34m\u001b[0m\u001b[0m\n",
      "\u001b[0;32m~/anaconda3/envs/python3/lib/python3.6/site-packages/sqlalchemy/engine/base.py\u001b[0m in \u001b[0;36m_execute_context\u001b[0;34m(self, dialect, constructor, statement, parameters, *args)\u001b[0m\n\u001b[1;32m   1198\u001b[0m                 \u001b[0mparameters\u001b[0m\u001b[0;34m,\u001b[0m\u001b[0;34m\u001b[0m\u001b[0m\n\u001b[1;32m   1199\u001b[0m                 \u001b[0mcursor\u001b[0m\u001b[0;34m,\u001b[0m\u001b[0;34m\u001b[0m\u001b[0m\n\u001b[0;32m-> 1200\u001b[0;31m                 context)\n\u001b[0m\u001b[1;32m   1201\u001b[0m \u001b[0;34m\u001b[0m\u001b[0m\n\u001b[1;32m   1202\u001b[0m         \u001b[0;32mif\u001b[0m \u001b[0mself\u001b[0m\u001b[0;34m.\u001b[0m\u001b[0m_has_events\u001b[0m \u001b[0;32mor\u001b[0m \u001b[0mself\u001b[0m\u001b[0;34m.\u001b[0m\u001b[0mengine\u001b[0m\u001b[0;34m.\u001b[0m\u001b[0m_has_events\u001b[0m\u001b[0;34m:\u001b[0m\u001b[0;34m\u001b[0m\u001b[0m\n",
      "\u001b[0;32m~/anaconda3/envs/python3/lib/python3.6/site-packages/sqlalchemy/engine/base.py\u001b[0m in \u001b[0;36m_handle_dbapi_exception\u001b[0;34m(self, e, statement, parameters, cursor, context)\u001b[0m\n\u001b[1;32m   1411\u001b[0m                 util.raise_from_cause(\n\u001b[1;32m   1412\u001b[0m                     \u001b[0msqlalchemy_exception\u001b[0m\u001b[0;34m,\u001b[0m\u001b[0;34m\u001b[0m\u001b[0m\n\u001b[0;32m-> 1413\u001b[0;31m                     \u001b[0mexc_info\u001b[0m\u001b[0;34m\u001b[0m\u001b[0m\n\u001b[0m\u001b[1;32m   1414\u001b[0m                 )\n\u001b[1;32m   1415\u001b[0m             \u001b[0;32melse\u001b[0m\u001b[0;34m:\u001b[0m\u001b[0;34m\u001b[0m\u001b[0m\n",
      "\u001b[0;32m~/anaconda3/envs/python3/lib/python3.6/site-packages/sqlalchemy/util/compat.py\u001b[0m in \u001b[0;36mraise_from_cause\u001b[0;34m(exception, exc_info)\u001b[0m\n\u001b[1;32m    201\u001b[0m     \u001b[0mexc_type\u001b[0m\u001b[0;34m,\u001b[0m \u001b[0mexc_value\u001b[0m\u001b[0;34m,\u001b[0m \u001b[0mexc_tb\u001b[0m \u001b[0;34m=\u001b[0m \u001b[0mexc_info\u001b[0m\u001b[0;34m\u001b[0m\u001b[0m\n\u001b[1;32m    202\u001b[0m     \u001b[0mcause\u001b[0m \u001b[0;34m=\u001b[0m \u001b[0mexc_value\u001b[0m \u001b[0;32mif\u001b[0m \u001b[0mexc_value\u001b[0m \u001b[0;32mis\u001b[0m \u001b[0;32mnot\u001b[0m \u001b[0mexception\u001b[0m \u001b[0;32melse\u001b[0m \u001b[0;32mNone\u001b[0m\u001b[0;34m\u001b[0m\u001b[0m\n\u001b[0;32m--> 203\u001b[0;31m     \u001b[0mreraise\u001b[0m\u001b[0;34m(\u001b[0m\u001b[0mtype\u001b[0m\u001b[0;34m(\u001b[0m\u001b[0mexception\u001b[0m\u001b[0;34m)\u001b[0m\u001b[0;34m,\u001b[0m \u001b[0mexception\u001b[0m\u001b[0;34m,\u001b[0m \u001b[0mtb\u001b[0m\u001b[0;34m=\u001b[0m\u001b[0mexc_tb\u001b[0m\u001b[0;34m,\u001b[0m \u001b[0mcause\u001b[0m\u001b[0;34m=\u001b[0m\u001b[0mcause\u001b[0m\u001b[0;34m)\u001b[0m\u001b[0;34m\u001b[0m\u001b[0m\n\u001b[0m\u001b[1;32m    204\u001b[0m \u001b[0;34m\u001b[0m\u001b[0m\n\u001b[1;32m    205\u001b[0m \u001b[0;32mif\u001b[0m \u001b[0mpy3k\u001b[0m\u001b[0;34m:\u001b[0m\u001b[0;34m\u001b[0m\u001b[0m\n",
      "\u001b[0;32m~/anaconda3/envs/python3/lib/python3.6/site-packages/sqlalchemy/util/compat.py\u001b[0m in \u001b[0;36mreraise\u001b[0;34m(tp, value, tb, cause)\u001b[0m\n\u001b[1;32m    184\u001b[0m             \u001b[0mvalue\u001b[0m\u001b[0;34m.\u001b[0m\u001b[0m__cause__\u001b[0m \u001b[0;34m=\u001b[0m \u001b[0mcause\u001b[0m\u001b[0;34m\u001b[0m\u001b[0m\n\u001b[1;32m    185\u001b[0m         \u001b[0;32mif\u001b[0m \u001b[0mvalue\u001b[0m\u001b[0;34m.\u001b[0m\u001b[0m__traceback__\u001b[0m \u001b[0;32mis\u001b[0m \u001b[0;32mnot\u001b[0m \u001b[0mtb\u001b[0m\u001b[0;34m:\u001b[0m\u001b[0;34m\u001b[0m\u001b[0m\n\u001b[0;32m--> 186\u001b[0;31m             \u001b[0;32mraise\u001b[0m \u001b[0mvalue\u001b[0m\u001b[0;34m.\u001b[0m\u001b[0mwith_traceback\u001b[0m\u001b[0;34m(\u001b[0m\u001b[0mtb\u001b[0m\u001b[0;34m)\u001b[0m\u001b[0;34m\u001b[0m\u001b[0m\n\u001b[0m\u001b[1;32m    187\u001b[0m         \u001b[0;32mraise\u001b[0m \u001b[0mvalue\u001b[0m\u001b[0;34m\u001b[0m\u001b[0m\n\u001b[1;32m    188\u001b[0m \u001b[0;34m\u001b[0m\u001b[0m\n",
      "\u001b[0;32m~/anaconda3/envs/python3/lib/python3.6/site-packages/sqlalchemy/engine/base.py\u001b[0m in \u001b[0;36m_execute_context\u001b[0;34m(self, dialect, constructor, statement, parameters, *args)\u001b[0m\n\u001b[1;32m   1168\u001b[0m                         \u001b[0mstatement\u001b[0m\u001b[0;34m,\u001b[0m\u001b[0;34m\u001b[0m\u001b[0m\n\u001b[1;32m   1169\u001b[0m                         \u001b[0mparameters\u001b[0m\u001b[0;34m,\u001b[0m\u001b[0;34m\u001b[0m\u001b[0m\n\u001b[0;32m-> 1170\u001b[0;31m                         context)\n\u001b[0m\u001b[1;32m   1171\u001b[0m             \u001b[0;32melif\u001b[0m \u001b[0;32mnot\u001b[0m \u001b[0mparameters\u001b[0m \u001b[0;32mand\u001b[0m \u001b[0mcontext\u001b[0m\u001b[0;34m.\u001b[0m\u001b[0mno_parameters\u001b[0m\u001b[0;34m:\u001b[0m\u001b[0;34m\u001b[0m\u001b[0m\n\u001b[1;32m   1172\u001b[0m                 \u001b[0;32mif\u001b[0m \u001b[0mself\u001b[0m\u001b[0;34m.\u001b[0m\u001b[0mdialect\u001b[0m\u001b[0;34m.\u001b[0m\u001b[0m_has_events\u001b[0m\u001b[0;34m:\u001b[0m\u001b[0;34m\u001b[0m\u001b[0m\n",
      "\u001b[0;32m~/anaconda3/envs/python3/lib/python3.6/site-packages/sqlalchemy/engine/default.py\u001b[0m in \u001b[0;36mdo_executemany\u001b[0;34m(self, cursor, statement, parameters, context)\u001b[0m\n\u001b[1;32m    502\u001b[0m \u001b[0;34m\u001b[0m\u001b[0m\n\u001b[1;32m    503\u001b[0m     \u001b[0;32mdef\u001b[0m \u001b[0mdo_executemany\u001b[0m\u001b[0;34m(\u001b[0m\u001b[0mself\u001b[0m\u001b[0;34m,\u001b[0m \u001b[0mcursor\u001b[0m\u001b[0;34m,\u001b[0m \u001b[0mstatement\u001b[0m\u001b[0;34m,\u001b[0m \u001b[0mparameters\u001b[0m\u001b[0;34m,\u001b[0m \u001b[0mcontext\u001b[0m\u001b[0;34m=\u001b[0m\u001b[0;32mNone\u001b[0m\u001b[0;34m)\u001b[0m\u001b[0;34m:\u001b[0m\u001b[0;34m\u001b[0m\u001b[0m\n\u001b[0;32m--> 504\u001b[0;31m         \u001b[0mcursor\u001b[0m\u001b[0;34m.\u001b[0m\u001b[0mexecutemany\u001b[0m\u001b[0;34m(\u001b[0m\u001b[0mstatement\u001b[0m\u001b[0;34m,\u001b[0m \u001b[0mparameters\u001b[0m\u001b[0;34m)\u001b[0m\u001b[0;34m\u001b[0m\u001b[0m\n\u001b[0m\u001b[1;32m    505\u001b[0m \u001b[0;34m\u001b[0m\u001b[0m\n\u001b[1;32m    506\u001b[0m     \u001b[0;32mdef\u001b[0m \u001b[0mdo_execute\u001b[0m\u001b[0;34m(\u001b[0m\u001b[0mself\u001b[0m\u001b[0;34m,\u001b[0m \u001b[0mcursor\u001b[0m\u001b[0;34m,\u001b[0m \u001b[0mstatement\u001b[0m\u001b[0;34m,\u001b[0m \u001b[0mparameters\u001b[0m\u001b[0;34m,\u001b[0m \u001b[0mcontext\u001b[0m\u001b[0;34m=\u001b[0m\u001b[0;32mNone\u001b[0m\u001b[0;34m)\u001b[0m\u001b[0;34m:\u001b[0m\u001b[0;34m\u001b[0m\u001b[0m\n",
      "\u001b[0;31mInterfaceError\u001b[0m: (sqlite3.InterfaceError) Error binding parameter 7 - probably unsupported type. [SQL: 'INSERT INTO df (\"gameCreation\", \"gameDuration\", \"gameId\", \"gameMode\", \"gameType\", \"gameVersion\", \"mapId\", \"participantIdentities\", participants, \"platformId\", \"queueId\", \"seasonId\", teams) VALUES (?, ?, ?, ?, ?, ?, ?, ?, ?, ?, ?, ?, ?)'] [parameters: ((1499665649596, 1567, 2544823989, 'CLASSIC', 'MATCHED_GAME', '7.13.192.6794', 11, [{'participantId': 1, 'player': {'platformId': 'NA1', 'accountId': 37013139, 'summonerName': 'Baaby Wipes ', 'summonerId': 23037187, 'currentPlatformI ... (672 characters truncated) ... rticipantId': 4}, {'participantId': 5}, {'participantId': 6}, {'participantId': 7}, {'participantId': 8}, {'participantId': 9}, {'participantId': 10}], \"[{'participantId': 1, 'teamId': 100, 'championId': 412, 'spell1Id': 4, 'spell2Id': 14, 'masteries': [{'masteryId': 6212, 'rank': 5}, {'masteryId': 62 ... (25965 characters truncated) ... 0-20': 267.9, '0-10': 294.3}, 'damageTakenDiffPerMinDeltas': {'10-20': -126.29999999999997, '0-10': -153.2}, 'role': 'DUO_CARRY', 'lane': 'BOTTOM'}}]\", 'NA1', 400, 8, \"[{'teamId': 100, 'win': 'Fail', 'firstBlood': False, 'firstTower': False, 'firstInhibitor': False, 'firstBaron': False, 'firstDragon': False, 'firstR ... (694 characters truncated) ... : 6}, {'championId': 127, 'pickTurn': 7}, {'championId': 51, 'pickTurn': 8}, {'championId': 11, 'pickTurn': 9}, {'championId': 24, 'pickTurn': 10}]}]\"), (1499663117674, 1785, 2544810915, 'CLASSIC', 'MATCHED_GAME', '7.13.192.6794', 11, [{'participantId': 1}, {'participantId': 2}, {'participantId': 3, 'player': {'platformId': 'NA1', 'accountId': 37013139, 'summonerName': 'Baaby Wipes  ... (672 characters truncated) ... /NA1/218766345', 'profileIcon': 1670}}, {'participantId': 6}, {'participantId': 7}, {'participantId': 8}, {'participantId': 9}, {'participantId': 10}], \"[{'participantId': 1, 'teamId': 100, 'championId': 24, 'spell1Id': 11, 'spell2Id': 4, 'masteries': [{'masteryId': 6111, 'rank': 5}, {'masteryId': 612 ... (26419 characters truncated) ... 0999999999999, '0-10': 78.3}, 'damageTakenDiffPerMinDeltas': {'10-20': -246.7, '0-10': -160.45000000000002}, 'role': 'DUO_CARRY', 'lane': 'BOTTOM'}}]\", 'NA1', 400, 8, \"[{'teamId': 100, 'win': 'Fail', 'firstBlood': True, 'firstTower': False, 'firstInhibitor': False, 'firstBaron': False, 'firstDragon': False, 'firstRi ... (692 characters truncated) ... 6}, {'championId': 497, 'pickTurn': 7}, {'championId': 81, 'pickTurn': 8}, {'championId': 154, 'pickTurn': 9}, {'championId': 238, 'pickTurn': 10}]}]\"), (1499660524114, 2048, 2544655056, 'CLASSIC', 'MATCHED_GAME', '7.13.192.6794', 11, [{'participantId': 1, 'player': {'platformId': 'NA1', 'accountId': 37013139, 'summonerName': 'Baaby Wipes ', 'summonerId': 23037187, 'currentPlatformI ... (665 characters truncated) ... rticipantId': 4}, {'participantId': 5}, {'participantId': 6}, {'participantId': 7}, {'participantId': 8}, {'participantId': 9}, {'participantId': 10}], \"[{'participantId': 1, 'teamId': 100, 'championId': 114, 'spell1Id': 4, 'spell2Id': 12, 'masteries': [{'masteryId': 6114, 'rank': 5}, {'masteryId': 61 ... (27690 characters truncated) ... 999}, 'damageTakenDiffPerMinDeltas': {'10-20': -202.2, '0-10': -44.099999999999994, '20-30': 139.09999999999997}, 'role': 'SOLO', 'lane': 'MIDDLE'}}]\", 'NA1', 400, 8, \"[{'teamId': 100, 'win': 'Win', 'firstBlood': True, 'firstTower': False, 'firstInhibitor': False, 'firstBaron': False, 'firstDragon': False, 'firstRif ... (693 characters truncated) ... 6}, {'championId': 412, 'pickTurn': 7}, {'championId': 126, 'pickTurn': 8}, {'championId': 53, 'pickTurn': 9}, {'championId': 154, 'pickTurn': 10}]}]\"), (1499572402641, 1514, 2543872569, 'CLASSIC', 'MATCHED_GAME', '7.13.192.6794', 11, [{'participantId': 1, 'player': {'platformId': 'NA1', 'accountId': 214753011, 'summonerName': 'Keep the Beats', 'summonerId': 51797629, 'currentPlatfo ... (2437 characters truncated) ...  19360863, 'currentPlatformId': 'NA1', 'currentAccountId': 32055340, 'matchHistoryUri': '/v1/stats/player_history/NA/32055340', 'profileIcon': 1666}}], \"[{'participantId': 1, 'teamId': 100, 'championId': 8, 'spell1Id': 4, 'spell2Id': 14, 'masteries': [{'masteryId': 6114, 'rank': 5}, {'masteryId': 6122 ... (26720 characters truncated) ... 0': 544.6, '0-10': 318}, 'damageTakenDiffPerMinDeltas': {'10-20': -411.20000000000005, '0-10': -163.89999999999998}, 'role': 'SOLO', 'lane': 'TOP'}}]\", 'NA1', 420, 8, \"[{'teamId': 100, 'win': 'Win', 'firstBlood': False, 'firstTower': True, 'firstInhibitor': True, 'firstBaron': True, 'firstDragon': True, 'firstRiftHe ... (689 characters truncated) ... : 6}, {'championId': 23, 'pickTurn': 7}, {'championId': 119, 'pickTurn': 8}, {'championId': 202, 'pickTurn': 9}, {'championId': 1, 'pickTurn': 10}]}]\"), (1499556741221, 2476, 2543685823, 'CLASSIC', 'MATCHED_GAME', '7.13.192.6794', 11, [{'participantId': 1}, {'participantId': 2}, {'participantId': 3}, {'participantId': 4}, {'participantId': 5}, {'participantId': 6, 'player': {'platfo ... (1165 characters truncated) ... 24132946, 'currentPlatformId': 'NA1', 'currentAccountID': 38364439, 'matchHistoryUri': '/v1/stats/player_history/NA1/38364439', 'profileIcon': 1236}}], \"[{'participantId': 1, 'teamId': 100, 'championId': 267, 'spell1Id': 3, 'spell2Id': 4, 'masteries': [{'masteryId': 6212, 'rank': 5}, {'masteryId': 622 ... (29510 characters truncated) ... 20': 106.30000000000001, '0-10': -13.000000000000028, '30-end': 156.9000000000001, '20-30': -429.20000000000005}, 'role': 'NONE', 'lane': 'JUNGLE'}}]\", 'NA1', 400, 8, \"[{'teamId': 100, 'win': 'Win', 'firstBlood': False, 'firstTower': True, 'firstInhibitor': False, 'firstBaron': False, 'firstDragon': False, 'firstRif ... (690 characters truncated) ...  6}, {'championId': 67, 'pickTurn': 7}, {'championId': 119, 'pickTurn': 8}, {'championId': 157, 'pickTurn': 9}, {'championId': 53, 'pickTurn': 10}]}]\"), (1499554266343, 2059, 2543681846, 'CLASSIC', 'MATCHED_GAME', '7.13.192.6794', 11, [{'participantId': 1}, {'participantId': 2}, {'participantId': 3}, {'participantId': 4}, {'participantId': 5}, {'participantId': 6, 'player': {'platfo ... (1165 characters truncated) ... 24132946, 'currentPlatformId': 'NA1', 'currentAccountID': 38364439, 'matchHistoryUri': '/v1/stats/player_history/NA1/38364439', 'profileIcon': 1236}}], \"[{'participantId': 1, 'teamId': 100, 'championId': 77, 'spell1Id': 4, 'spell2Id': 11, 'masteries': [{'masteryId': 6212, 'rank': 5}, {'masteryId': 622 ... (28002 characters truncated) ... 0-10': 587.5, '20-30': 549.9}, 'damageTakenDiffPerMinDeltas': {'10-20': -407.4, '0-10': -57.5, '20-30': -1124.9}, 'role': 'NONE', 'lane': 'JUNGLE'}}]\", 'NA1', 400, 8, \"[{'teamId': 100, 'win': 'Fail', 'firstBlood': False, 'firstTower': True, 'firstInhibitor': False, 'firstBaron': False, 'firstDragon': False, 'firstRi ... (691 characters truncated) ...  6}, {'championId': 67, 'pickTurn': 7}, {'championId': 119, 'pickTurn': 8}, {'championId': 157, 'pickTurn': 9}, {'championId': 53, 'pickTurn': 10}]}]\"), (1499552061048, 1545, 2543636860, 'CLASSIC', 'MATCHED_GAME', '7.13.192.6794', 11, [{'participantId': 1}, {'participantId': 2, 'player': {'platformId': 'NA1', 'accountId': 37013139, 'summonerName': 'Baaby Wipes ', 'summonerId': 23037 ... (920 characters truncated) ... y/NA1/38364439', 'profileIcon': 1236}}, {'participantId': 6}, {'participantId': 7}, {'participantId': 8}, {'participantId': 9}, {'participantId': 10}], \"[{'participantId': 1, 'teamId': 100, 'championId': 13, 'spell1Id': 6, 'spell2Id': 4, 'masteries': [{'masteryId': 6114, 'rank': 5}, {'masteryId': 6123 ... (26785 characters truncated) ... 0': 715.9000000000001}, 'damageTakenDiffPerMinDeltas': {'10-20': -45.80000000000001, '0-10': 12.500000000000057}, 'role': 'NONE', 'lane': 'JUNGLE'}}]\", 'NA1', 400, 8, \"[{'teamId': 100, 'win': 'Fail', 'firstBlood': False, 'firstTower': False, 'firstInhibitor': False, 'firstBaron': False, 'firstDragon': False, 'firstR ... (691 characters truncated) ...  6}, {'championId': 134, 'pickTurn': 7}, {'championId': 105, 'pickTurn': 8}, {'championId': 53, 'pickTurn': 9}, {'championId': 64, 'pickTurn': 10}]}]\"), (1499550279174, 1306, 2543625615, 'CLASSIC', 'MATCHED_GAME', '7.13.192.6794', 11, [{'participantId': 1}, {'participantId': 2}, {'participantId': 3}, {'participantId': 4}, {'participantId': 5}, {'participantId': 6, 'player': {'platfo ... (920 characters truncated) ... ormId': 'NA1', 'currentAccountID': 38364439, 'matchHistoryUri': '/v1/stats/player_history/NA1/38364439', 'profileIcon': 1236}}, {'participantId': 10}], \"[{'participantId': 1, 'teamId': 100, 'championId': 61, 'spell1Id': 6, 'spell2Id': 4, 'masteries': [{'masteryId': 6114, 'rank': 5}, {'masteryId': 6122 ... (26556 characters truncated) ... : 1208.9, '0-10': 533.1}, 'damageTakenDiffPerMinDeltas': {'10-20': 717.4000000000001, '0-10': 344.4000000000001}, 'role': 'SOLO', 'lane': 'MIDDLE'}}]\", 'NA1', 400, 8, \"[{'teamId': 100, 'win': 'Win', 'firstBlood': True, 'firstTower': True, 'firstInhibitor': True, 'firstBaron': False, 'firstDragon': True, 'firstRiftHe ... (691 characters truncated) ...  6}, {'championId': 103, 'pickTurn': 7}, {'championId': 39, 'pickTurn': 8}, {'championId': 154, 'pickTurn': 9}, {'championId': 69, 'pickTurn': 10}]}]\")  ... displaying 10 of 139 total bound parameter sets ...  (1477379450121, 1229, 2328274396, 'ARAM', 'CUSTOM_GAME', '6.21.162.7510', 12, [{'participantId': 1}, {'participantId': 2}, {'participantId': 3, 'player': {'platformId': 'NA1', 'accountId': 226845662, 'summonerName': 'ecslater',  ... (82 characters truncated) ...  'matchHistoryUri': '/v1/stats/player_history/NA1/226845662', 'profileIcon': 1301}}, {'participantId': 4}, {'participantId': 5}, {'participantId': 6}], \"[{'participantId': 1, 'teamId': 100, 'championId': 92, 'spell1Id': 4, 'spell2Id': 32, 'masteries': [{'masteryId': 6111, 'rank': 5}, {'masteryId': 612 ... (15993 characters truncated) ...  1406, '0-10': 885.8}, 'damageTakenDiffPerMinDeltas': {'10-20': -703.9333333333329, '0-10': -232.43333333333322}, 'role': 'NONE', 'lane': 'MIDDLE'}}]\", 'NA1', 0, 7, \"[{'teamId': 100, 'win': 'Fail', 'firstBlood': False, 'firstTower': False, 'firstInhibitor': False, 'firstBaron': False, 'firstDragon': False, 'firstR ... (340 characters truncated) ... erKills': 4, 'inhibitorKills': 2, 'baronKills': 0, 'dragonKills': 0, 'vilemawKills': 0, 'riftHeraldKills': 0, 'dominionVictoryScore': 0, 'bans': []}]\"), (1477377415695, 1645, 2328293961, 'ARAM', 'CUSTOM_GAME', '6.21.162.7510', 12, [{'participantId': 1}, {'participantId': 2, 'player': {'platformId': 'NA1', 'accountId': 226845662, 'summonerName': 'ecslater', 'summonerId': 64800284 ... (126 characters truncated) ... fileIcon': 1301}}, {'participantId': 3}, {'participantId': 4}, {'participantId': 5}, {'participantId': 6}, {'participantId': 7}, {'participantId': 8}], \"[{'participantId': 1, 'teamId': 100, 'championId': 202, 'spell1Id': 7, 'spell2Id': 4, 'masteries': [{'masteryId': 6114, 'rank': 5}, {'masteryId': 612 ... (20581 characters truncated) ... 10': 627.0999999999999}, 'damageTakenDiffPerMinDeltas': {'10-20': 470.8499999999998, '0-10': 40.400000000000034}, 'role': 'NONE', 'lane': 'MIDDLE'}}]\", 'NA1', 0, 7, \"[{'teamId': 100, 'win': 'Win', 'firstBlood': False, 'firstTower': True, 'firstInhibitor': True, 'firstBaron': False, 'firstDragon': False, 'firstRift ... (340 characters truncated) ... erKills': 2, 'inhibitorKills': 0, 'baronKills': 0, 'dragonKills': 0, 'vilemawKills': 0, 'riftHeraldKills': 0, 'dominionVictoryScore': 0, 'bans': []}]\"))] (Background on this error at: http://sqlalche.me/e/rvf5)"
     ]
    }
   ],
   "source": [
    "dfsql(\"\"\"\n",
    "select *\n",
    "from df\n",
    "\"\"\")"
   ]
  },
  {
   "cell_type": "code",
   "execution_count": 60,
   "metadata": {},
   "outputs": [],
   "source": [
    "df.to_parquet(\"./s3_parquet/foo.parquet\", engine=\"fastparquet\")"
   ]
  },
  {
   "cell_type": "code",
   "execution_count": null,
   "metadata": {},
   "outputs": [],
   "source": [
    "df_normalized = pd.json_normalize(df, \n",
    "    lines=True\n",
    ")"
   ]
  },
  {
   "cell_type": "code",
   "execution_count": 67,
   "metadata": {},
   "outputs": [
    {
     "data": {
      "text/plain": [
       "gameCreation              int64\n",
       "gameDuration              int64\n",
       "gameId                    int64\n",
       "gameMode                 object\n",
       "gameType                 object\n",
       "gameVersion              object\n",
       "mapId                     int64\n",
       "participantIdentities    object\n",
       "participants             object\n",
       "platformId               object\n",
       "queueId                   int64\n",
       "seasonId                  int64\n",
       "teams                    object\n",
       "dtype: object"
      ]
     },
     "execution_count": 67,
     "metadata": {},
     "output_type": "execute_result"
    }
   ],
   "source": [
    "pd.read_parquet(\"./s3_parquet/foo.parquet\", engine=\"fastparquet\").dtypes"
   ]
  }
 ],
 "metadata": {
  "kernelspec": {
   "display_name": "Python 3",
   "language": "python",
   "name": "python3"
  },
  "language_info": {
   "codemirror_mode": {
    "name": "ipython",
    "version": 3
   },
   "file_extension": ".py",
   "mimetype": "text/x-python",
   "name": "python",
   "nbconvert_exporter": "python",
   "pygments_lexer": "ipython3",
   "version": "3.7.0"
  }
 },
 "nbformat": 4,
 "nbformat_minor": 2
}
