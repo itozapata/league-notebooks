{
 "cells": [
  {
   "cell_type": "code",
   "execution_count": 1,
   "metadata": {},
   "outputs": [],
   "source": [
    "import pandas as pd\n",
    "from distutils.version import StrictVersion\n",
    "import matplotlib.pyplot as plt\n",
    "import math\n",
    "import numpy as np\n",
    "import seaborn as sns\n",
    "\n",
    "from pandasql import sqldf\n",
    "dfsql = lambda q: sqldf(q, globals())\n",
    "\n",
    "pd.set_option('display.max_columns', 500)\n",
    "plt.rcParams['figure.figsize'] = [15,3]"
   ]
  },
  {
   "cell_type": "code",
   "execution_count": 2,
   "metadata": {},
   "outputs": [],
   "source": [
    "df_raw = pd.read_parquet('./recent-export.parquet', engine='pyarrow')"
   ]
  },
  {
   "cell_type": "code",
   "execution_count": 3,
   "metadata": {},
   "outputs": [],
   "source": [
    "df_raw['date'] = df_raw.gameCreation.dt.date"
   ]
  },
  {
   "cell_type": "code",
   "execution_count": 4,
   "metadata": {},
   "outputs": [],
   "source": [
    "def nameFromSummonerId(x):\n",
    "    if x == 73012371.0:\n",
    "        return 'jokokoloko'\n",
    "    elif x == 61079726.0:\n",
    "        return 'Skeevo'\n",
    "    elif x == 22928658.0:\n",
    "        return 'iKledYouNot'\n",
    "    elif x == 64811789.0:\n",
    "        return 'Channsanity'\n",
    "    elif x == 64983167.0:\n",
    "        return 'Rudo'\n",
    "    elif x == 23037187.0:\n",
    "        return 'Fláy'\n",
    "    elif x == 23455234.0:\n",
    "        return 'BokuWaHenry'\n",
    "    elif x == 23924232.0:\n",
    "        return 'Sheldor'\n",
    "    elif x == 24132946.0:\n",
    "        return 'DrArchadium'\n",
    "    elif x == 21411852.0:\n",
    "        return 'Onishfu'\n",
    "    elif x == 64739124.0:\n",
    "        return 'AgileOverlord'\n",
    "    return 'unknown'"
   ]
  },
  {
   "cell_type": "code",
   "execution_count": 5,
   "metadata": {},
   "outputs": [],
   "source": [
    "def extractShortVersion(x):\n",
    "    split_array = x.split('.')\n",
    "    major = split_array[0]\n",
    "    minor = split_array[1]\n",
    "    if len(minor) < 2:\n",
    "        minor = \"0{num}\".format(num=minor)\n",
    "    return float(\"{major}.{minor}\".format(major=major, minor=minor))\n",
    "\n",
    "df_raw['shortVersion'] = df_raw.gameVersion.apply(extractShortVersion)\n",
    "# df['ver'] = df['shortVersion'].apply(StrictVersion)"
   ]
  },
  {
   "cell_type": "code",
   "execution_count": 6,
   "metadata": {},
   "outputs": [],
   "source": [
    "df_raw['win'] = df_raw.win.apply(lambda x: 1 if x == 'Win' else 0)"
   ]
  },
  {
   "cell_type": "code",
   "execution_count": 7,
   "metadata": {},
   "outputs": [],
   "source": [
    "df_normal = df_raw[\n",
    "    (\n",
    "        (df_raw['player.summonerId'] == 73012371.0) |\n",
    "        (df_raw['player.summonerId'] == 23455234.0) |\n",
    "        (df_raw['player.summonerId'] == 61079726.0) |\n",
    "        (df_raw['player.summonerId'] == 23037187.0) |\n",
    "        (df_raw['player.summonerId'] == 64983167.0) |\n",
    "        \n",
    "        (df_raw['player.summonerId'] == 22928658.0) |\n",
    "        (df_raw['player.summonerId'] == 64811789.0) |\n",
    "        (df_raw['player.summonerId'] == 21411852.0) |\n",
    "        (df_raw['player.summonerId'] == 64739124.0) |\n",
    "        (df_raw['player.summonerId'] == 23924232.0) |\n",
    "        (df_raw['player.summonerId'] == 24132946.0) |\n",
    "        (df_raw['player.summonerId'] == 64800284.0)\n",
    "    ) &\n",
    "    (\n",
    "        (df_raw['queueId'] == 400)\n",
    "    )\n",
    "]"
   ]
  },
  {
   "cell_type": "code",
   "execution_count": 8,
   "metadata": {},
   "outputs": [],
   "source": [
    "df_ranked = df_raw[\n",
    "    (\n",
    "        (df_raw['player.summonerId'] == 73012371.0) |\n",
    "        (df_raw['player.summonerId'] == 23455234.0) |\n",
    "        (df_raw['player.summonerId'] == 61079726.0) |\n",
    "        (df_raw['player.summonerId'] == 23037187.0) |\n",
    "        (df_raw['player.summonerId'] == 64983167.0) |\n",
    "        \n",
    "        (df_raw['player.summonerId'] == 22928658.0) |\n",
    "        (df_raw['player.summonerId'] == 64811789.0) |\n",
    "        (df_raw['player.summonerId'] == 21411852.0) |\n",
    "        (df_raw['player.summonerId'] == 64739124.0) |\n",
    "        (df_raw['player.summonerId'] == 23924232.0) |\n",
    "        (df_raw['player.summonerId'] == 24132946.0) |\n",
    "        (df_raw['player.summonerId'] == 64800284.0)\n",
    "    ) &\n",
    "    (\n",
    "        (df_raw['queueId'] == 420) |\n",
    "        (df_raw['queueId'] == 440)\n",
    "    )\n",
    "]"
   ]
  },
  {
   "cell_type": "code",
   "execution_count": 9,
   "metadata": {},
   "outputs": [],
   "source": [
    "df_normal.to_csv('./pmint-normal-queue.csv')"
   ]
  },
  {
   "cell_type": "code",
   "execution_count": null,
   "metadata": {},
   "outputs": [],
   "source": []
  }
 ],
 "metadata": {
  "kernelspec": {
   "display_name": "Python 3",
   "language": "python",
   "name": "python3"
  },
  "language_info": {
   "codemirror_mode": {
    "name": "ipython",
    "version": 3
   },
   "file_extension": ".py",
   "mimetype": "text/x-python",
   "name": "python",
   "nbconvert_exporter": "python",
   "pygments_lexer": "ipython3",
   "version": "3.7.0"
  }
 },
 "nbformat": 4,
 "nbformat_minor": 2
}
