{
 "cells": [
  {
   "cell_type": "code",
   "execution_count": 16,
   "metadata": {},
   "outputs": [
    {
     "ename": "ERROR",
     "evalue": "Error in unlist(str_split(x, \"\\n\"), recursive = FALSE, use.names = FALSE): lazy-load database 'C:/Users/zaphy/Anaconda3/R/library/stringr/R/stringr.rdb' is corrupt\n",
     "output_type": "error",
     "traceback": [
      "Error in unlist(str_split(x, \"\\n\"), recursive = FALSE, use.names = FALSE): lazy-load database 'C:/Users/zaphy/Anaconda3/R/library/stringr/R/stringr.rdb' is corrupt\nTraceback:\n"
     ]
    }
   ],
   "source": [
    "mydata = read.csv(\"./datasets/league_games_by_lanes.csv\")\n",
    "mydata"
   ]
  },
  {
   "cell_type": "code",
   "execution_count": 15,
   "metadata": {},
   "outputs": [],
   "source": [
    "help(read.csv)"
   ]
  },
  {
   "cell_type": "code",
   "execution_count": null,
   "metadata": {},
   "outputs": [],
   "source": [
    "plot(1+1)"
   ]
  },
  {
   "cell_type": "code",
   "execution_count": null,
   "metadata": {
    "collapsed": true
   },
   "outputs": [],
   "source": []
  }
 ],
 "metadata": {
  "kernelspec": {
   "display_name": "R",
   "language": "R",
   "name": "ir"
  },
  "language_info": {
   "codemirror_mode": "r",
   "file_extension": ".r",
   "mimetype": "text/x-r-source",
   "name": "R",
   "pygments_lexer": "r",
   "version": "3.4.1"
  }
 },
 "nbformat": 4,
 "nbformat_minor": 2
}
